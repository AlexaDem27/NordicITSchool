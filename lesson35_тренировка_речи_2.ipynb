{
 "cells": [
  {
   "cell_type": "code",
   "execution_count": null,
   "metadata": {
    "collapsed": true,
    "pycharm": {
     "name": "#%%\n"
    }
   },
   "outputs": [],
   "source": [
    "import os\n",
    "import argparse\n",
    "import warnings\n",
    "import numpy as np\n",
    "from scipy.io import wavfile\n",
    "from hmmlearn import hmm\n",
    "from python_speech_features import mfcc\n",
    "\n",
    "# определим функцию распознавания аргументов (заполнить позже)\n",
    "def build_arg_parser():\n",
    "    parser = argparse.ArgumentParser(description='Trains \\ the HMM-based speech recognition system')\n",
    "    parser.add_argument(\"--input-folder\")\n",
    "\n",
    "#Определяем класс для тренировки HMM\n",
    "class ModelHMM(object):\n",
    "    def __init__(self, num_components=4, num_iter = 1000):\n",
    "        self.n_components = num_components\n",
    "        self.n_iter = num_iter\n",
    "        self.cov_type = \"diag\" # тип ковариации\n",
    "        self.model_name = \"GaussianHMM\"# тип марковской модели\n",
    "        self.models = [] # модели для каждого слова\n",
    "        #определение модели по указанным параметрам\n",
    "        self.model = hmm.GaussianHMM(n_components=self.n_components,\n",
    "                                      covariance_type=self.cov_type,\n",
    "                                      n_iter= self.n_iter)\n",
    "\n",
    "    #train_data -- двумерный массив по 13 элементов в каждой строке\n",
    "    # определим метод для обучения модели\n",
    "    def train (self, train_data):\n",
    "        np.seterr(all='ignore')\n",
    "        cur_model = self.model.fit(train_data)\n",
    "        self.models.append(cur_model)\n",
    "\n",
    "    # создадим метод для оценки входных данных\n",
    "    def compute_score(self, input_data):\n",
    "        return self.model.score(input_data)\n",
    "\n",
    "\n",
    "# определим функцию для построения модели для каждого слова в тренировочном наборе данных\n",
    "def build_models (input_folder):\n",
    "    speech_models = []\n",
    "    for dirname in os.listdir(input_folder):\n",
    "        subfolder = os.path.join(input_folder, dirname)\n",
    "        if not os.path.isdir(subfolder):\n",
    "            continue\n",
    "        label = subfolder[subfolder.rfind('/') +1:]\n",
    "        X = np.array([])\n",
    "        #создается список файлов для тренировки модели\n",
    "        training_files = [x for x in os.listdir(subfolder) if x.endswith('.wav')][:-1]\n",
    "        for filename in training_files:\n",
    "            filepath = os.path.join(subfolder, filename)\n",
    "            sampling_freq, signal = wavfile.read(filepath)\n",
    "            with warnings.catch_warnings():\n",
    "                warnings.simplefilter('ignore')\n",
    "                features_mfcc = mfcc(signal, sampling_freq)\n",
    "            if len(X) == 0:\n",
    "                X = features_mfcc\n",
    "            else:\n",
    "                X = np.append(X, features_mfcc, axis=0)\n",
    "\n",
    "#инициализируем модель для текущего слова\n",
    "        model = ModelHMM()\n",
    "        model.train(X)\n",
    "        speech_models.append((model, label))\n",
    "        model = None\n",
    "    return speech_models\n",
    "\n",
    "\n",
    "\n",
    "\n",
    "\n"
   ]
  }
 ],
 "metadata": {
  "kernelspec": {
   "display_name": "Python 3",
   "language": "python",
   "name": "python3"
  },
  "language_info": {
   "codemirror_mode": {
    "name": "ipython",
    "version": 2
   },
   "file_extension": ".py",
   "mimetype": "text/x-python",
   "name": "python",
   "nbconvert_exporter": "python",
   "pygments_lexer": "ipython2",
   "version": "2.7.6"
  }
 },
 "nbformat": 4,
 "nbformat_minor": 0
}
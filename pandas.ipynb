{
 "nbformat": 4,
 "nbformat_minor": 0,
 "metadata": {
  "kernelspec": {
   "display_name": "Python 3",
   "language": "python",
   "name": "python3"
  },
  "language_info": {
   "codemirror_mode": {
    "name": "ipython",
    "version": 3
   },
   "file_extension": ".py",
   "mimetype": "text/x-python",
   "name": "python",
   "nbconvert_exporter": "python",
   "pygments_lexer": "ipython3",
   "version": "3.7.3"
  },
  "colab": {
   "provenance": []
  }
 },
 "cells": [
  {
   "cell_type": "markdown",
   "metadata": {
    "id": "ChvYru-EKEa7",
    "pycharm": {
     "name": "#%% md\n"
    }
   },
   "source": [
    "Библиотека `pandas` активно используется в современном data science для работы с данными, которые могут быть представлены в виде таблиц (а это очень, очень большая часть данных)"
   ]
  },
  {
   "cell_type": "markdown",
   "metadata": {
    "id": "Q5b3JXTMKEa8",
    "pycharm": {
     "name": "#%% md\n"
    }
   },
   "source": [
    "`pandas` есть в пакете Anaconda, но если вдруг у Вас её по каким-то причинам нет, то можно установить, раскомментировав одну из следующих команд:"
   ]
  },
  {
   "cell_type": "code",
   "metadata": {
    "id": "CzPmRkr-ZW-i",
    "pycharm": {
     "name": "#%%\n"
    }
   },
   "source": [
    "# !pip3 install pandas\n",
    "# !conda install pandas"
   ],
   "execution_count": null,
   "outputs": []
  },
  {
   "cell_type": "code",
   "metadata": {
    "id": "g5YZv3pmZW-o",
    "pycharm": {
     "name": "#%%\n"
    }
   },
   "source": [
    "import numpy as np\n",
    "import pandas as pd # Стандартное сокращение для pandas. Всегда используйте его!"
   ],
   "execution_count": 1,
   "outputs": []
  },
  {
   "cell_type": "markdown",
   "metadata": {
    "id": "Zw6_T-yiZW-s",
    "pycharm": {
     "name": "#%% md\n"
    }
   },
   "source": [
    "# pd.Series\n",
    "\n",
    "Тип данных pd.Series представляет собой одномерный набор данных. Отсутствующий данные записываются как `np.nan` (в этот день термометр сломался или метеоролог был пьян); они не участвуют в вычислении средних, среднеквадратичных отклонений и т.д.\n",
    "\n",
    "### Создание\n",
    "Создадим Series из списка температур"
   ]
  },
  {
   "cell_type": "code",
   "metadata": {
    "id": "bI2M8ejwZW-t",
    "pycharm": {
     "name": "#%%\n"
    }
   },
   "source": [
    "some_list = [1, 3, 5, np.nan, 6, 8] #NaN\n",
    "ser_1 = pd.Series(some_list)\n",
    "ser_1"
   ],
   "execution_count": 2,
   "outputs": [
    {
     "data": {
      "text/plain": "0    1.0\n1    3.0\n2    5.0\n3    NaN\n4    6.0\n5    8.0\ndtype: float64"
     },
     "execution_count": 2,
     "metadata": {},
     "output_type": "execute_result"
    }
   ]
  },
  {
   "cell_type": "code",
   "metadata": {
    "id": "CtTy0kkEKEbX",
    "pycharm": {
     "name": "#%%\n"
    }
   },
   "source": [
    "# Так же можно в явном виде указать индексы, чтобы потом было более удобно обращаться к элементам\n",
    "ind = ['1st day', '2nd day', '3rd day', '4th day', '5rd day', '6th day']\n",
    "\n",
    "ser_2 = pd.Series(some_list, index=ind)\n",
    "ser_2"
   ],
   "execution_count": 3,
   "outputs": [
    {
     "data": {
      "text/plain": "1st day    1.0\n2nd day    3.0\n3rd day    5.0\n4th day    NaN\n5rd day    6.0\n6th day    8.0\ndtype: float64"
     },
     "execution_count": 3,
     "metadata": {},
     "output_type": "execute_result"
    }
   ]
  },
  {
   "cell_type": "code",
   "metadata": {
    "id": "2IhYD42aKEbd",
    "pycharm": {
     "name": "#%%\n"
    }
   },
   "source": [
    "ser_2['4th day']"
   ],
   "execution_count": 4,
   "outputs": [
    {
     "data": {
      "text/plain": "nan"
     },
     "execution_count": 4,
     "metadata": {},
     "output_type": "execute_result"
    }
   ]
  },
  {
   "cell_type": "code",
   "metadata": {
    "id": "c0oiu9rRKEbh",
    "scrolled": true,
    "pycharm": {
     "name": "#%%\n"
    }
   },
   "source": [
    "# А еще можно дать pd.Series имя, чтобы было совсем красиво\n",
    "ser_3 = pd.Series(some_list, index=ind, name='Temperature')\n",
    "ser_3"
   ],
   "execution_count": 5,
   "outputs": [
    {
     "data": {
      "text/plain": "1st day    1.0\n2nd day    3.0\n3rd day    5.0\n4th day    NaN\n5rd day    6.0\n6th day    8.0\nName: Temperature, dtype: float64"
     },
     "execution_count": 5,
     "metadata": {},
     "output_type": "execute_result"
    }
   ]
  },
  {
   "cell_type": "markdown",
   "metadata": {
    "id": "IV5MDy4uZW_C",
    "pycharm": {
     "name": "#%% md\n"
    }
   },
   "source": [
    "### Индексирование\n",
    "С индексами можно работать так же, как и в случае с обычным list."
   ]
  },
  {
   "cell_type": "code",
   "metadata": {
    "id": "EeNoPJxeKEbl",
    "pycharm": {
     "name": "#%%\n"
    }
   },
   "source": [
    "print(ser_3[0])\n",
    "\n",
    "print('-----------')\n",
    "\n",
    "print(ser_3[1:3])\n",
    "\n",
    "print('-----------')\n",
    "\n",
    "print(ser_3[::-1])"
   ],
   "execution_count": 6,
   "outputs": [
    {
     "name": "stdout",
     "output_type": "stream",
     "text": [
      "1.0\n",
      "-----------\n",
      "2nd day    3.0\n",
      "3rd day    5.0\n",
      "Name: Temperature, dtype: float64\n",
      "-----------\n",
      "6th day    8.0\n",
      "5rd day    6.0\n",
      "4th day    NaN\n",
      "3rd day    5.0\n",
      "2nd day    3.0\n",
      "1st day    1.0\n",
      "Name: Temperature, dtype: float64\n"
     ]
    }
   ]
  },
  {
   "cell_type": "markdown",
   "metadata": {
    "id": "GSHqJDTUZW_I",
    "pycharm": {
     "name": "#%% md\n"
    }
   },
   "source": [
    "### Индексирование pd.Series по условиям"
   ]
  },
  {
   "cell_type": "code",
   "metadata": {
    "id": "oz4pJ00pKEcE",
    "pycharm": {
     "name": "#%%\n"
    }
   },
   "source": [
    "date_range = pd.date_range('20190101', periods=40)\n",
    "print(date_range)\n",
    "ser_4 = pd.Series(np.random.rand(40), index=date_range)\n",
    "ser_4"
   ],
   "execution_count": 8,
   "outputs": [
    {
     "name": "stdout",
     "output_type": "stream",
     "text": [
      "DatetimeIndex(['2019-01-01', '2019-01-02', '2019-01-03', '2019-01-04',\n",
      "               '2019-01-05', '2019-01-06', '2019-01-07', '2019-01-08',\n",
      "               '2019-01-09', '2019-01-10', '2019-01-11', '2019-01-12',\n",
      "               '2019-01-13', '2019-01-14', '2019-01-15', '2019-01-16',\n",
      "               '2019-01-17', '2019-01-18', '2019-01-19', '2019-01-20',\n",
      "               '2019-01-21', '2019-01-22', '2019-01-23', '2019-01-24',\n",
      "               '2019-01-25', '2019-01-26', '2019-01-27', '2019-01-28',\n",
      "               '2019-01-29', '2019-01-30', '2019-01-31', '2019-02-01',\n",
      "               '2019-02-02', '2019-02-03', '2019-02-04', '2019-02-05',\n",
      "               '2019-02-06', '2019-02-07', '2019-02-08', '2019-02-09'],\n",
      "              dtype='datetime64[ns]', freq='D')\n"
     ]
    },
    {
     "data": {
      "text/plain": "2019-01-01    0.597107\n2019-01-02    0.335062\n2019-01-03    0.672187\n2019-01-04    0.776447\n2019-01-05    0.550785\n2019-01-06    0.778734\n2019-01-07    0.316995\n2019-01-08    0.020987\n2019-01-09    0.077116\n2019-01-10    0.438082\n2019-01-11    0.513557\n2019-01-12    0.701480\n2019-01-13    0.340985\n2019-01-14    0.737343\n2019-01-15    0.777470\n2019-01-16    0.224375\n2019-01-17    0.459210\n2019-01-18    0.343078\n2019-01-19    0.968837\n2019-01-20    0.377127\n2019-01-21    0.621637\n2019-01-22    0.054777\n2019-01-23    0.323983\n2019-01-24    0.998591\n2019-01-25    0.022337\n2019-01-26    0.451550\n2019-01-27    0.549320\n2019-01-28    0.439642\n2019-01-29    0.148442\n2019-01-30    0.014802\n2019-01-31    0.163926\n2019-02-01    0.446481\n2019-02-02    0.940202\n2019-02-03    0.928712\n2019-02-04    0.443111\n2019-02-05    0.300855\n2019-02-06    0.965086\n2019-02-07    0.402495\n2019-02-08    0.809585\n2019-02-09    0.049402\nFreq: D, dtype: float64"
     },
     "execution_count": 8,
     "metadata": {},
     "output_type": "execute_result"
    }
   ]
  },
  {
   "cell_type": "code",
   "metadata": {
    "id": "-2tVHwwoKEcJ",
    "pycharm": {
     "name": "#%%\n"
    }
   },
   "source": [
    "ser_4 > 0.5"
   ],
   "execution_count": 9,
   "outputs": [
    {
     "data": {
      "text/plain": "2019-01-01     True\n2019-01-02    False\n2019-01-03     True\n2019-01-04     True\n2019-01-05     True\n2019-01-06     True\n2019-01-07    False\n2019-01-08    False\n2019-01-09    False\n2019-01-10    False\n2019-01-11     True\n2019-01-12     True\n2019-01-13    False\n2019-01-14     True\n2019-01-15     True\n2019-01-16    False\n2019-01-17    False\n2019-01-18    False\n2019-01-19     True\n2019-01-20    False\n2019-01-21     True\n2019-01-22    False\n2019-01-23    False\n2019-01-24     True\n2019-01-25    False\n2019-01-26    False\n2019-01-27     True\n2019-01-28    False\n2019-01-29    False\n2019-01-30    False\n2019-01-31    False\n2019-02-01    False\n2019-02-02     True\n2019-02-03     True\n2019-02-04    False\n2019-02-05    False\n2019-02-06     True\n2019-02-07    False\n2019-02-08     True\n2019-02-09    False\nFreq: D, dtype: bool"
     },
     "execution_count": 9,
     "metadata": {},
     "output_type": "execute_result"
    }
   ]
  },
  {
   "cell_type": "markdown",
   "metadata": {
    "id": "TqFAOBKaKEcO",
    "pycharm": {
     "name": "#%% md\n"
    }
   },
   "source": [
    "В качестве индекса можно указать выражение, и нам будут возвращены только те элементы, для которых значение является `True`"
   ]
  },
  {
   "cell_type": "code",
   "metadata": {
    "id": "XL2kbqXeKEcO",
    "pycharm": {
     "name": "#%%\n"
    }
   },
   "source": [
    "ser_4[ser_4 > 0.5]"
   ],
   "execution_count": 10,
   "outputs": [
    {
     "data": {
      "text/plain": "2019-01-01    0.597107\n2019-01-03    0.672187\n2019-01-04    0.776447\n2019-01-05    0.550785\n2019-01-06    0.778734\n2019-01-11    0.513557\n2019-01-12    0.701480\n2019-01-14    0.737343\n2019-01-15    0.777470\n2019-01-19    0.968837\n2019-01-21    0.621637\n2019-01-24    0.998591\n2019-01-27    0.549320\n2019-02-02    0.940202\n2019-02-03    0.928712\n2019-02-06    0.965086\n2019-02-08    0.809585\ndtype: float64"
     },
     "execution_count": 10,
     "metadata": {},
     "output_type": "execute_result"
    }
   ]
  },
  {
   "cell_type": "code",
   "metadata": {
    "id": "tSlzr1kqKEcX",
    "pycharm": {
     "name": "#%%\n"
    }
   },
   "source": [
    "ser_4[(ser_4 > 0.6) | (ser_4 < 0.2)]"
   ],
   "execution_count": 11,
   "outputs": [
    {
     "data": {
      "text/plain": "2019-01-03    0.672187\n2019-01-04    0.776447\n2019-01-06    0.778734\n2019-01-08    0.020987\n2019-01-09    0.077116\n2019-01-12    0.701480\n2019-01-14    0.737343\n2019-01-15    0.777470\n2019-01-19    0.968837\n2019-01-21    0.621637\n2019-01-22    0.054777\n2019-01-24    0.998591\n2019-01-25    0.022337\n2019-01-29    0.148442\n2019-01-30    0.014802\n2019-01-31    0.163926\n2019-02-02    0.940202\n2019-02-03    0.928712\n2019-02-06    0.965086\n2019-02-08    0.809585\n2019-02-09    0.049402\ndtype: float64"
     },
     "execution_count": 11,
     "metadata": {},
     "output_type": "execute_result"
    }
   ]
  },
  {
   "cell_type": "code",
   "metadata": {
    "id": "_tLMZbNwPx_e",
    "pycharm": {
     "name": "#%%\n"
    }
   },
   "source": [
    "ser_4[(ser_4 > 0.6) & (ser_4 < 0.2)]"
   ],
   "execution_count": 12,
   "outputs": [
    {
     "data": {
      "text/plain": "Series([], Freq: D, dtype: float64)"
     },
     "execution_count": 12,
     "metadata": {},
     "output_type": "execute_result"
    }
   ]
  },
  {
   "cell_type": "markdown",
   "metadata": {
    "id": "6AGQx7lFKEbp",
    "pycharm": {
     "name": "#%% md\n"
    }
   },
   "source": [
    "### Сортировки\n",
    "Тип `pd.Series` можно отсортировать как по значениям, так и по индексу."
   ]
  },
  {
   "cell_type": "code",
   "metadata": {
    "id": "lWUR7nrIKEbq",
    "pycharm": {
     "name": "#%%\n"
    }
   },
   "source": [
    "ser_4.sort_index()"
   ],
   "execution_count": 13,
   "outputs": [
    {
     "data": {
      "text/plain": "2019-01-01    0.597107\n2019-01-02    0.335062\n2019-01-03    0.672187\n2019-01-04    0.776447\n2019-01-05    0.550785\n2019-01-06    0.778734\n2019-01-07    0.316995\n2019-01-08    0.020987\n2019-01-09    0.077116\n2019-01-10    0.438082\n2019-01-11    0.513557\n2019-01-12    0.701480\n2019-01-13    0.340985\n2019-01-14    0.737343\n2019-01-15    0.777470\n2019-01-16    0.224375\n2019-01-17    0.459210\n2019-01-18    0.343078\n2019-01-19    0.968837\n2019-01-20    0.377127\n2019-01-21    0.621637\n2019-01-22    0.054777\n2019-01-23    0.323983\n2019-01-24    0.998591\n2019-01-25    0.022337\n2019-01-26    0.451550\n2019-01-27    0.549320\n2019-01-28    0.439642\n2019-01-29    0.148442\n2019-01-30    0.014802\n2019-01-31    0.163926\n2019-02-01    0.446481\n2019-02-02    0.940202\n2019-02-03    0.928712\n2019-02-04    0.443111\n2019-02-05    0.300855\n2019-02-06    0.965086\n2019-02-07    0.402495\n2019-02-08    0.809585\n2019-02-09    0.049402\nFreq: D, dtype: float64"
     },
     "execution_count": 13,
     "metadata": {},
     "output_type": "execute_result"
    }
   ]
  },
  {
   "cell_type": "code",
   "metadata": {
    "id": "Z5fR1a1vKEbv",
    "pycharm": {
     "name": "#%%\n"
    }
   },
   "source": [
    "ser_4 = ser_4.sort_values()"
   ],
   "execution_count": 15,
   "outputs": []
  },
  {
   "cell_type": "code",
   "metadata": {
    "id": "NyT47vPl2qpV",
    "pycharm": {
     "name": "#%%\n"
    }
   },
   "source": [
    "ser_4"
   ],
   "execution_count": 16,
   "outputs": [
    {
     "data": {
      "text/plain": "2019-01-30    0.014802\n2019-01-08    0.020987\n2019-01-25    0.022337\n2019-02-09    0.049402\n2019-01-22    0.054777\n2019-01-09    0.077116\n2019-01-29    0.148442\n2019-01-31    0.163926\n2019-01-16    0.224375\n2019-02-05    0.300855\n2019-01-07    0.316995\n2019-01-23    0.323983\n2019-01-02    0.335062\n2019-01-13    0.340985\n2019-01-18    0.343078\n2019-01-20    0.377127\n2019-02-07    0.402495\n2019-01-10    0.438082\n2019-01-28    0.439642\n2019-02-04    0.443111\n2019-02-01    0.446481\n2019-01-26    0.451550\n2019-01-17    0.459210\n2019-01-11    0.513557\n2019-01-27    0.549320\n2019-01-05    0.550785\n2019-01-01    0.597107\n2019-01-21    0.621637\n2019-01-03    0.672187\n2019-01-12    0.701480\n2019-01-14    0.737343\n2019-01-04    0.776447\n2019-01-15    0.777470\n2019-01-06    0.778734\n2019-02-08    0.809585\n2019-02-03    0.928712\n2019-02-02    0.940202\n2019-02-06    0.965086\n2019-01-19    0.968837\n2019-01-24    0.998591\ndtype: float64"
     },
     "execution_count": 16,
     "metadata": {},
     "output_type": "execute_result"
    }
   ]
  },
  {
   "cell_type": "markdown",
   "metadata": {
    "id": "WdMZMJLVKEb0",
    "pycharm": {
     "name": "#%% md\n"
    }
   },
   "source": [
    "### Операции с series\n",
    "Тип `pd.Series` можно модифицировать проще, чем стандартный ``list`` из Python."
   ]
  },
  {
   "cell_type": "code",
   "metadata": {
    "id": "_61Xk26QKEb0",
    "scrolled": true,
    "pycharm": {
     "name": "#%%\n"
    }
   },
   "source": [
    "ser_4 + 100"
   ],
   "execution_count": 17,
   "outputs": [
    {
     "data": {
      "text/plain": "2019-01-30    100.014802\n2019-01-08    100.020987\n2019-01-25    100.022337\n2019-02-09    100.049402\n2019-01-22    100.054777\n2019-01-09    100.077116\n2019-01-29    100.148442\n2019-01-31    100.163926\n2019-01-16    100.224375\n2019-02-05    100.300855\n2019-01-07    100.316995\n2019-01-23    100.323983\n2019-01-02    100.335062\n2019-01-13    100.340985\n2019-01-18    100.343078\n2019-01-20    100.377127\n2019-02-07    100.402495\n2019-01-10    100.438082\n2019-01-28    100.439642\n2019-02-04    100.443111\n2019-02-01    100.446481\n2019-01-26    100.451550\n2019-01-17    100.459210\n2019-01-11    100.513557\n2019-01-27    100.549320\n2019-01-05    100.550785\n2019-01-01    100.597107\n2019-01-21    100.621637\n2019-01-03    100.672187\n2019-01-12    100.701480\n2019-01-14    100.737343\n2019-01-04    100.776447\n2019-01-15    100.777470\n2019-01-06    100.778734\n2019-02-08    100.809585\n2019-02-03    100.928712\n2019-02-02    100.940202\n2019-02-06    100.965086\n2019-01-19    100.968837\n2019-01-24    100.998591\ndtype: float64"
     },
     "execution_count": 17,
     "metadata": {},
     "output_type": "execute_result"
    }
   ]
  },
  {
   "cell_type": "code",
   "metadata": {
    "id": "M3EphsCcKEb4",
    "pycharm": {
     "name": "#%%\n"
    }
   },
   "source": [
    "np.exp(ser_4)"
   ],
   "execution_count": 18,
   "outputs": [
    {
     "data": {
      "text/plain": "2019-01-30    1.014913\n2019-01-08    1.021209\n2019-01-25    1.022589\n2019-02-09    1.050643\n2019-01-22    1.056305\n2019-01-09    1.080167\n2019-01-29    1.160026\n2019-01-31    1.178128\n2019-01-16    1.251540\n2019-02-05    1.351014\n2019-01-07    1.372996\n2019-01-23    1.382624\n2019-01-02    1.398027\n2019-01-13    1.406332\n2019-01-18    1.409278\n2019-01-20    1.458089\n2019-02-07    1.495551\n2019-01-10    1.549732\n2019-01-28    1.552152\n2019-02-04    1.557545\n2019-02-01    1.562804\n2019-01-26    1.570745\n2019-01-17    1.582823\n2019-01-11    1.671225\n2019-01-27    1.732075\n2019-01-05    1.734614\n2019-01-01    1.816855\n2019-01-21    1.861973\n2019-01-03    1.958517\n2019-01-12    2.016736\n2019-01-14    2.090374\n2019-01-04    2.173735\n2019-01-15    2.175960\n2019-01-06    2.178711\n2019-02-08    2.246976\n2019-02-03    2.531246\n2019-02-02    2.560498\n2019-02-06    2.625014\n2019-01-19    2.634878\n2019-01-24    2.714454\ndtype: float64"
     },
     "execution_count": 18,
     "metadata": {},
     "output_type": "execute_result"
    }
   ]
  },
  {
   "cell_type": "code",
   "metadata": {
    "id": "_en6VrNEKEb8",
    "pycharm": {
     "name": "#%%\n"
    }
   },
   "source": [
    "term_1 = pd.Series(np.random.randint(0, 10, 5))\n",
    "term_2 = pd.Series(np.random.randint(0, 10, 6))\n",
    "\n",
    "term_1 + term_2"
   ],
   "execution_count": 19,
   "outputs": [
    {
     "data": {
      "text/plain": "0     5.0\n1     6.0\n2     7.0\n3    12.0\n4    17.0\n5     NaN\ndtype: float64"
     },
     "execution_count": 19,
     "metadata": {},
     "output_type": "execute_result"
    }
   ]
  },
  {
   "cell_type": "code",
   "metadata": {
    "id": "3oy9-zRjKEcA",
    "pycharm": {
     "name": "#%%\n"
    }
   },
   "source": [
    "term_1.shape"
   ],
   "execution_count": 20,
   "outputs": [
    {
     "data": {
      "text/plain": "(5,)"
     },
     "execution_count": 20,
     "metadata": {},
     "output_type": "execute_result"
    }
   ]
  },
  {
   "cell_type": "markdown",
   "metadata": {
    "id": "EMgxxnXLZW_0",
    "pycharm": {
     "name": "#%% md\n"
    }
   },
   "source": [
    "# pd.DataFrame\n",
    "\n",
    "Тип данных pd.DataFrame представляет собой двумерную таблицу с данными. Имеет индекс и набор столбцов (возможно, имеющих разные типы). Таблицу можно построить, например, из словаря, значениями в котором являются одномерные наборы данных.\n",
    "### Создание и основные объекты"
   ]
  },
  {
   "cell_type": "code",
   "metadata": {
    "id": "b92QAcDQZW_1",
    "pycharm": {
     "name": "#%%\n"
    }
   },
   "source": [
    "# Dataframe можно составить из словаря. Ключ будет соответсовать колонке\n",
    "some_dict = {'one': pd.Series([1,2,3], index=['a','b','c']),\n",
    "             'two': pd.Series([1,2,3,4], index=['a','b','c','d']),\n",
    "             'three': pd.Series([5,6,7,8], index=['a','b','c','d'])}\n",
    "df = pd.DataFrame(some_dict)\n",
    "df"
   ],
   "execution_count": 21,
   "outputs": [
    {
     "data": {
      "text/plain": "   one  two  three\na  1.0    1      5\nb  2.0    2      6\nc  3.0    3      7\nd  NaN    4      8",
      "text/html": "<div>\n<style scoped>\n    .dataframe tbody tr th:only-of-type {\n        vertical-align: middle;\n    }\n\n    .dataframe tbody tr th {\n        vertical-align: top;\n    }\n\n    .dataframe thead th {\n        text-align: right;\n    }\n</style>\n<table border=\"1\" class=\"dataframe\">\n  <thead>\n    <tr style=\"text-align: right;\">\n      <th></th>\n      <th>one</th>\n      <th>two</th>\n      <th>three</th>\n    </tr>\n  </thead>\n  <tbody>\n    <tr>\n      <th>a</th>\n      <td>1.0</td>\n      <td>1</td>\n      <td>5</td>\n    </tr>\n    <tr>\n      <th>b</th>\n      <td>2.0</td>\n      <td>2</td>\n      <td>6</td>\n    </tr>\n    <tr>\n      <th>c</th>\n      <td>3.0</td>\n      <td>3</td>\n      <td>7</td>\n    </tr>\n    <tr>\n      <th>d</th>\n      <td>NaN</td>\n      <td>4</td>\n      <td>8</td>\n    </tr>\n  </tbody>\n</table>\n</div>"
     },
     "execution_count": 21,
     "metadata": {},
     "output_type": "execute_result"
    }
   ]
  },
  {
   "cell_type": "code",
   "metadata": {
    "id": "DGnYePCpZW_4",
    "pycharm": {
     "name": "#%%\n"
    }
   },
   "source": [
    "#Альтернативно, из списка списков с аргументом columns\n",
    "\n",
    "some_array = [[1,1,5], [2,2,6], [3,3,7], [np.nan, 4,8]]\n",
    "df = pd.DataFrame(some_array, index=['a', 'b', 'c', 'd'], columns=['one', 'two', 'three'])\n",
    "df"
   ],
   "execution_count": 24,
   "outputs": [
    {
     "data": {
      "text/plain": "   one  two  three\na  1.0    1      5\nb  2.0    2      6\nc  3.0    3      7\nd  NaN    4      8",
      "text/html": "<div>\n<style scoped>\n    .dataframe tbody tr th:only-of-type {\n        vertical-align: middle;\n    }\n\n    .dataframe tbody tr th {\n        vertical-align: top;\n    }\n\n    .dataframe thead th {\n        text-align: right;\n    }\n</style>\n<table border=\"1\" class=\"dataframe\">\n  <thead>\n    <tr style=\"text-align: right;\">\n      <th></th>\n      <th>one</th>\n      <th>two</th>\n      <th>three</th>\n    </tr>\n  </thead>\n  <tbody>\n    <tr>\n      <th>a</th>\n      <td>1.0</td>\n      <td>1</td>\n      <td>5</td>\n    </tr>\n    <tr>\n      <th>b</th>\n      <td>2.0</td>\n      <td>2</td>\n      <td>6</td>\n    </tr>\n    <tr>\n      <th>c</th>\n      <td>3.0</td>\n      <td>3</td>\n      <td>7</td>\n    </tr>\n    <tr>\n      <th>d</th>\n      <td>NaN</td>\n      <td>4</td>\n      <td>8</td>\n    </tr>\n  </tbody>\n</table>\n</div>"
     },
     "execution_count": 24,
     "metadata": {},
     "output_type": "execute_result"
    }
   ]
  },
  {
   "cell_type": "code",
   "metadata": {
    "id": "dgFLY8UjZW_8",
    "pycharm": {
     "name": "#%%\n"
    }
   },
   "source": [
    "df.values"
   ],
   "execution_count": 25,
   "outputs": [
    {
     "data": {
      "text/plain": "array([[ 1.,  1.,  5.],\n       [ 2.,  2.,  6.],\n       [ 3.,  3.,  7.],\n       [nan,  4.,  8.]])"
     },
     "execution_count": 25,
     "metadata": {},
     "output_type": "execute_result"
    }
   ]
  },
  {
   "cell_type": "code",
   "metadata": {
    "id": "YOPjWvpPZW__",
    "pycharm": {
     "name": "#%%\n"
    }
   },
   "source": [
    "df.columns"
   ],
   "execution_count": 26,
   "outputs": [
    {
     "data": {
      "text/plain": "Index(['one', 'two', 'three'], dtype='object')"
     },
     "execution_count": 26,
     "metadata": {},
     "output_type": "execute_result"
    }
   ]
  },
  {
   "cell_type": "code",
   "metadata": {
    "id": "DF4NizSiZXAC",
    "pycharm": {
     "name": "#%%\n"
    }
   },
   "source": [
    "df.columns = ['first_column', 'second_column', 'third_column']\n",
    "df.index = [1,2,3,4]\n",
    "df"
   ],
   "execution_count": 27,
   "outputs": [
    {
     "data": {
      "text/plain": "   first_column  second_column  third_column\n1           1.0              1             5\n2           2.0              2             6\n3           3.0              3             7\n4           NaN              4             8",
      "text/html": "<div>\n<style scoped>\n    .dataframe tbody tr th:only-of-type {\n        vertical-align: middle;\n    }\n\n    .dataframe tbody tr th {\n        vertical-align: top;\n    }\n\n    .dataframe thead th {\n        text-align: right;\n    }\n</style>\n<table border=\"1\" class=\"dataframe\">\n  <thead>\n    <tr style=\"text-align: right;\">\n      <th></th>\n      <th>first_column</th>\n      <th>second_column</th>\n      <th>third_column</th>\n    </tr>\n  </thead>\n  <tbody>\n    <tr>\n      <th>1</th>\n      <td>1.0</td>\n      <td>1</td>\n      <td>5</td>\n    </tr>\n    <tr>\n      <th>2</th>\n      <td>2.0</td>\n      <td>2</td>\n      <td>6</td>\n    </tr>\n    <tr>\n      <th>3</th>\n      <td>3.0</td>\n      <td>3</td>\n      <td>7</td>\n    </tr>\n    <tr>\n      <th>4</th>\n      <td>NaN</td>\n      <td>4</td>\n      <td>8</td>\n    </tr>\n  </tbody>\n</table>\n</div>"
     },
     "execution_count": 27,
     "metadata": {},
     "output_type": "execute_result"
    }
   ]
  },
  {
   "cell_type": "markdown",
   "metadata": {
    "id": "igVwR60BZXAH",
    "pycharm": {
     "name": "#%% md\n"
    }
   },
   "source": [
    "### Индексирование \n",
    "Есть очень много способов индексировать DataFrame в Pandas. Не все из них хорошие! Вот несколько удобных, но не универсальных.\n",
    "\n",
    "#### По колонкам\n",
    "Индексирование по колонке возращает pd.Series. Можно выбирать не одну колонку, а сразу несколько. Тогда снова вернётся pd.DataFrame."
   ]
  },
  {
   "cell_type": "code",
   "metadata": {
    "id": "EKc3GHIIZXAI",
    "pycharm": {
     "name": "#%%\n"
    }
   },
   "source": [
    "first_column = df['first_column']\n",
    "first_column"
   ],
   "execution_count": 28,
   "outputs": [
    {
     "data": {
      "text/plain": "1    1.0\n2    2.0\n3    3.0\n4    NaN\nName: first_column, dtype: float64"
     },
     "execution_count": 28,
     "metadata": {},
     "output_type": "execute_result"
    }
   ]
  },
  {
   "cell_type": "code",
   "metadata": {
    "id": "HknUyy3_ui59",
    "pycharm": {
     "name": "#%%\n"
    }
   },
   "source": [
    "df.second_column"
   ],
   "execution_count": 30,
   "outputs": [
    {
     "data": {
      "text/plain": "1    1\n2    2\n3    3\n4    4\nName: second_column, dtype: int64"
     },
     "execution_count": 30,
     "metadata": {},
     "output_type": "execute_result"
    }
   ]
  },
  {
   "cell_type": "code",
   "metadata": {
    "id": "qWPr1WuzZXAM",
    "pycharm": {
     "name": "#%%\n"
    }
   },
   "source": [
    "subset_dataframe = df[['first_column', 'second_column']]\n",
    "subset_dataframe"
   ],
   "execution_count": 34,
   "outputs": [
    {
     "data": {
      "text/plain": "   first_column  second_column\n1           1.0              1\n2           2.0              2\n3           3.0              3\n4           NaN              4",
      "text/html": "<div>\n<style scoped>\n    .dataframe tbody tr th:only-of-type {\n        vertical-align: middle;\n    }\n\n    .dataframe tbody tr th {\n        vertical-align: top;\n    }\n\n    .dataframe thead th {\n        text-align: right;\n    }\n</style>\n<table border=\"1\" class=\"dataframe\">\n  <thead>\n    <tr style=\"text-align: right;\">\n      <th></th>\n      <th>first_column</th>\n      <th>second_column</th>\n    </tr>\n  </thead>\n  <tbody>\n    <tr>\n      <th>1</th>\n      <td>1.0</td>\n      <td>1</td>\n    </tr>\n    <tr>\n      <th>2</th>\n      <td>2.0</td>\n      <td>2</td>\n    </tr>\n    <tr>\n      <th>3</th>\n      <td>3.0</td>\n      <td>3</td>\n    </tr>\n    <tr>\n      <th>4</th>\n      <td>NaN</td>\n      <td>4</td>\n    </tr>\n  </tbody>\n</table>\n</div>"
     },
     "execution_count": 34,
     "metadata": {},
     "output_type": "execute_result"
    }
   ]
  },
  {
   "cell_type": "code",
   "metadata": {
    "id": "YMIohBQUmDYP",
    "pycharm": {
     "name": "#%%\n"
    }
   },
   "source": [
    "one_column_dataframe = df[['first_column']]\n",
    "one_column_dataframe"
   ],
   "execution_count": 32,
   "outputs": [
    {
     "data": {
      "text/plain": "   first_column\n1           1.0\n2           2.0\n3           3.0\n4           NaN",
      "text/html": "<div>\n<style scoped>\n    .dataframe tbody tr th:only-of-type {\n        vertical-align: middle;\n    }\n\n    .dataframe tbody tr th {\n        vertical-align: top;\n    }\n\n    .dataframe thead th {\n        text-align: right;\n    }\n</style>\n<table border=\"1\" class=\"dataframe\">\n  <thead>\n    <tr style=\"text-align: right;\">\n      <th></th>\n      <th>first_column</th>\n    </tr>\n  </thead>\n  <tbody>\n    <tr>\n      <th>1</th>\n      <td>1.0</td>\n    </tr>\n    <tr>\n      <th>2</th>\n      <td>2.0</td>\n    </tr>\n    <tr>\n      <th>3</th>\n      <td>3.0</td>\n    </tr>\n    <tr>\n      <th>4</th>\n      <td>NaN</td>\n    </tr>\n  </tbody>\n</table>\n</div>"
     },
     "execution_count": 32,
     "metadata": {},
     "output_type": "execute_result"
    }
   ]
  },
  {
   "cell_type": "markdown",
   "metadata": {
    "id": "X5j_j4a0ZXAO",
    "pycharm": {
     "name": "#%% md\n"
    }
   },
   "source": [
    "#### По строкам\n",
    "Можно писать любые слайсы, как в Python-списке. Они будут применяться к строкам. Нельзя обращаться по элементу!"
   ]
  },
  {
   "cell_type": "code",
   "metadata": {
    "id": "avfKJfeNZXAP",
    "pycharm": {
     "name": "#%%\n"
    }
   },
   "source": [
    "df[1] # не сработает"
   ],
   "execution_count": 35,
   "outputs": [
    {
     "ename": "KeyError",
     "evalue": "1",
     "output_type": "error",
     "traceback": [
      "\u001B[0;31m---------------------------------------------------------------------------\u001B[0m",
      "\u001B[0;31mKeyError\u001B[0m                                  Traceback (most recent call last)",
      "\u001B[0;32m~/DataSpellProject/dsProject/venv/lib/python3.7/site-packages/pandas/core/indexes/base.py\u001B[0m in \u001B[0;36mget_loc\u001B[0;34m(self, key, method, tolerance)\u001B[0m\n\u001B[1;32m   3360\u001B[0m             \u001B[0;32mtry\u001B[0m\u001B[0;34m:\u001B[0m\u001B[0;34m\u001B[0m\u001B[0;34m\u001B[0m\u001B[0m\n\u001B[0;32m-> 3361\u001B[0;31m                 \u001B[0;32mreturn\u001B[0m \u001B[0mself\u001B[0m\u001B[0;34m.\u001B[0m\u001B[0m_engine\u001B[0m\u001B[0;34m.\u001B[0m\u001B[0mget_loc\u001B[0m\u001B[0;34m(\u001B[0m\u001B[0mcasted_key\u001B[0m\u001B[0;34m)\u001B[0m\u001B[0;34m\u001B[0m\u001B[0;34m\u001B[0m\u001B[0m\n\u001B[0m\u001B[1;32m   3362\u001B[0m             \u001B[0;32mexcept\u001B[0m \u001B[0mKeyError\u001B[0m \u001B[0;32mas\u001B[0m \u001B[0merr\u001B[0m\u001B[0;34m:\u001B[0m\u001B[0;34m\u001B[0m\u001B[0;34m\u001B[0m\u001B[0m\n",
      "\u001B[0;32m~/DataSpellProject/dsProject/venv/lib/python3.7/site-packages/pandas/_libs/index.pyx\u001B[0m in \u001B[0;36mpandas._libs.index.IndexEngine.get_loc\u001B[0;34m()\u001B[0m\n",
      "\u001B[0;32m~/DataSpellProject/dsProject/venv/lib/python3.7/site-packages/pandas/_libs/index.pyx\u001B[0m in \u001B[0;36mpandas._libs.index.IndexEngine.get_loc\u001B[0;34m()\u001B[0m\n",
      "\u001B[0;32mpandas/_libs/hashtable_class_helper.pxi\u001B[0m in \u001B[0;36mpandas._libs.hashtable.PyObjectHashTable.get_item\u001B[0;34m()\u001B[0m\n",
      "\u001B[0;32mpandas/_libs/hashtable_class_helper.pxi\u001B[0m in \u001B[0;36mpandas._libs.hashtable.PyObjectHashTable.get_item\u001B[0;34m()\u001B[0m\n",
      "\u001B[0;31mKeyError\u001B[0m: 1",
      "\nThe above exception was the direct cause of the following exception:\n",
      "\u001B[0;31mKeyError\u001B[0m                                  Traceback (most recent call last)",
      "\u001B[0;32m/var/folders/vp/_6v9pjzx5pb_0chxpzcjxyx00000gn/T/ipykernel_4630/2313428608.py\u001B[0m in \u001B[0;36m<module>\u001B[0;34m\u001B[0m\n\u001B[0;32m----> 1\u001B[0;31m \u001B[0mdf\u001B[0m\u001B[0;34m[\u001B[0m\u001B[0;36m1\u001B[0m\u001B[0;34m]\u001B[0m \u001B[0;31m# не сработает\u001B[0m\u001B[0;34m\u001B[0m\u001B[0;34m\u001B[0m\u001B[0m\n\u001B[0m",
      "\u001B[0;32m~/DataSpellProject/dsProject/venv/lib/python3.7/site-packages/pandas/core/frame.py\u001B[0m in \u001B[0;36m__getitem__\u001B[0;34m(self, key)\u001B[0m\n\u001B[1;32m   3456\u001B[0m             \u001B[0;32mif\u001B[0m \u001B[0mself\u001B[0m\u001B[0;34m.\u001B[0m\u001B[0mcolumns\u001B[0m\u001B[0;34m.\u001B[0m\u001B[0mnlevels\u001B[0m \u001B[0;34m>\u001B[0m \u001B[0;36m1\u001B[0m\u001B[0;34m:\u001B[0m\u001B[0;34m\u001B[0m\u001B[0;34m\u001B[0m\u001B[0m\n\u001B[1;32m   3457\u001B[0m                 \u001B[0;32mreturn\u001B[0m \u001B[0mself\u001B[0m\u001B[0;34m.\u001B[0m\u001B[0m_getitem_multilevel\u001B[0m\u001B[0;34m(\u001B[0m\u001B[0mkey\u001B[0m\u001B[0;34m)\u001B[0m\u001B[0;34m\u001B[0m\u001B[0;34m\u001B[0m\u001B[0m\n\u001B[0;32m-> 3458\u001B[0;31m             \u001B[0mindexer\u001B[0m \u001B[0;34m=\u001B[0m \u001B[0mself\u001B[0m\u001B[0;34m.\u001B[0m\u001B[0mcolumns\u001B[0m\u001B[0;34m.\u001B[0m\u001B[0mget_loc\u001B[0m\u001B[0;34m(\u001B[0m\u001B[0mkey\u001B[0m\u001B[0;34m)\u001B[0m\u001B[0;34m\u001B[0m\u001B[0;34m\u001B[0m\u001B[0m\n\u001B[0m\u001B[1;32m   3459\u001B[0m             \u001B[0;32mif\u001B[0m \u001B[0mis_integer\u001B[0m\u001B[0;34m(\u001B[0m\u001B[0mindexer\u001B[0m\u001B[0;34m)\u001B[0m\u001B[0;34m:\u001B[0m\u001B[0;34m\u001B[0m\u001B[0;34m\u001B[0m\u001B[0m\n\u001B[1;32m   3460\u001B[0m                 \u001B[0mindexer\u001B[0m \u001B[0;34m=\u001B[0m \u001B[0;34m[\u001B[0m\u001B[0mindexer\u001B[0m\u001B[0;34m]\u001B[0m\u001B[0;34m\u001B[0m\u001B[0;34m\u001B[0m\u001B[0m\n",
      "\u001B[0;32m~/DataSpellProject/dsProject/venv/lib/python3.7/site-packages/pandas/core/indexes/base.py\u001B[0m in \u001B[0;36mget_loc\u001B[0;34m(self, key, method, tolerance)\u001B[0m\n\u001B[1;32m   3361\u001B[0m                 \u001B[0;32mreturn\u001B[0m \u001B[0mself\u001B[0m\u001B[0;34m.\u001B[0m\u001B[0m_engine\u001B[0m\u001B[0;34m.\u001B[0m\u001B[0mget_loc\u001B[0m\u001B[0;34m(\u001B[0m\u001B[0mcasted_key\u001B[0m\u001B[0;34m)\u001B[0m\u001B[0;34m\u001B[0m\u001B[0;34m\u001B[0m\u001B[0m\n\u001B[1;32m   3362\u001B[0m             \u001B[0;32mexcept\u001B[0m \u001B[0mKeyError\u001B[0m \u001B[0;32mas\u001B[0m \u001B[0merr\u001B[0m\u001B[0;34m:\u001B[0m\u001B[0;34m\u001B[0m\u001B[0;34m\u001B[0m\u001B[0m\n\u001B[0;32m-> 3363\u001B[0;31m                 \u001B[0;32mraise\u001B[0m \u001B[0mKeyError\u001B[0m\u001B[0;34m(\u001B[0m\u001B[0mkey\u001B[0m\u001B[0;34m)\u001B[0m \u001B[0;32mfrom\u001B[0m \u001B[0merr\u001B[0m\u001B[0;34m\u001B[0m\u001B[0;34m\u001B[0m\u001B[0m\n\u001B[0m\u001B[1;32m   3364\u001B[0m \u001B[0;34m\u001B[0m\u001B[0m\n\u001B[1;32m   3365\u001B[0m         \u001B[0;32mif\u001B[0m \u001B[0mis_scalar\u001B[0m\u001B[0;34m(\u001B[0m\u001B[0mkey\u001B[0m\u001B[0;34m)\u001B[0m \u001B[0;32mand\u001B[0m \u001B[0misna\u001B[0m\u001B[0;34m(\u001B[0m\u001B[0mkey\u001B[0m\u001B[0;34m)\u001B[0m \u001B[0;32mand\u001B[0m \u001B[0;32mnot\u001B[0m \u001B[0mself\u001B[0m\u001B[0;34m.\u001B[0m\u001B[0mhasnans\u001B[0m\u001B[0;34m:\u001B[0m\u001B[0;34m\u001B[0m\u001B[0;34m\u001B[0m\u001B[0m\n",
      "\u001B[0;31mKeyError\u001B[0m: 1"
     ]
    }
   ]
  },
  {
   "cell_type": "code",
   "metadata": {
    "id": "KAynoccTZXAT",
    "pycharm": {
     "name": "#%%\n"
    }
   },
   "source": [
    "df[:1]"
   ],
   "execution_count": 36,
   "outputs": [
    {
     "data": {
      "text/plain": "   first_column  second_column  third_column\n1           1.0              1             5",
      "text/html": "<div>\n<style scoped>\n    .dataframe tbody tr th:only-of-type {\n        vertical-align: middle;\n    }\n\n    .dataframe tbody tr th {\n        vertical-align: top;\n    }\n\n    .dataframe thead th {\n        text-align: right;\n    }\n</style>\n<table border=\"1\" class=\"dataframe\">\n  <thead>\n    <tr style=\"text-align: right;\">\n      <th></th>\n      <th>first_column</th>\n      <th>second_column</th>\n      <th>third_column</th>\n    </tr>\n  </thead>\n  <tbody>\n    <tr>\n      <th>1</th>\n      <td>1.0</td>\n      <td>1</td>\n      <td>5</td>\n    </tr>\n  </tbody>\n</table>\n</div>"
     },
     "execution_count": 36,
     "metadata": {},
     "output_type": "execute_result"
    }
   ]
  },
  {
   "cell_type": "code",
   "metadata": {
    "id": "BE2ACIw9ZXAX",
    "pycharm": {
     "name": "#%%\n"
    }
   },
   "source": [
    "df[1:4]"
   ],
   "execution_count": 37,
   "outputs": [
    {
     "data": {
      "text/plain": "   first_column  second_column  third_column\n2           2.0              2             6\n3           3.0              3             7\n4           NaN              4             8",
      "text/html": "<div>\n<style scoped>\n    .dataframe tbody tr th:only-of-type {\n        vertical-align: middle;\n    }\n\n    .dataframe tbody tr th {\n        vertical-align: top;\n    }\n\n    .dataframe thead th {\n        text-align: right;\n    }\n</style>\n<table border=\"1\" class=\"dataframe\">\n  <thead>\n    <tr style=\"text-align: right;\">\n      <th></th>\n      <th>first_column</th>\n      <th>second_column</th>\n      <th>third_column</th>\n    </tr>\n  </thead>\n  <tbody>\n    <tr>\n      <th>2</th>\n      <td>2.0</td>\n      <td>2</td>\n      <td>6</td>\n    </tr>\n    <tr>\n      <th>3</th>\n      <td>3.0</td>\n      <td>3</td>\n      <td>7</td>\n    </tr>\n    <tr>\n      <th>4</th>\n      <td>NaN</td>\n      <td>4</td>\n      <td>8</td>\n    </tr>\n  </tbody>\n</table>\n</div>"
     },
     "execution_count": 37,
     "metadata": {},
     "output_type": "execute_result"
    }
   ]
  },
  {
   "cell_type": "markdown",
   "metadata": {
    "id": "_nAgxLhvZXAa",
    "pycharm": {
     "name": "#%% md\n"
    }
   },
   "source": [
    "#### Универсальное индексирование: .loc и .iloc\n",
    "\n",
    ".loc и .iloc --- это два взаимозаменяемых атрибута, которые позволяют индексировать по обеим осям сразу. Путаницы не возникает из-за фиксированного порядка перечисления осей."
   ]
  },
  {
   "cell_type": "code",
   "metadata": {
    "id": "vnqS2YQSZXAb",
    "pycharm": {
     "name": "#%%\n"
    }
   },
   "source": [
    "# По индексам: \n",
    "df.iloc[1:3, :2]"
   ],
   "execution_count": 38,
   "outputs": [
    {
     "data": {
      "text/plain": "   first_column  second_column\n2           2.0              2\n3           3.0              3",
      "text/html": "<div>\n<style scoped>\n    .dataframe tbody tr th:only-of-type {\n        vertical-align: middle;\n    }\n\n    .dataframe tbody tr th {\n        vertical-align: top;\n    }\n\n    .dataframe thead th {\n        text-align: right;\n    }\n</style>\n<table border=\"1\" class=\"dataframe\">\n  <thead>\n    <tr style=\"text-align: right;\">\n      <th></th>\n      <th>first_column</th>\n      <th>second_column</th>\n    </tr>\n  </thead>\n  <tbody>\n    <tr>\n      <th>2</th>\n      <td>2.0</td>\n      <td>2</td>\n    </tr>\n    <tr>\n      <th>3</th>\n      <td>3.0</td>\n      <td>3</td>\n    </tr>\n  </tbody>\n</table>\n</div>"
     },
     "execution_count": 38,
     "metadata": {},
     "output_type": "execute_result"
    }
   ]
  },
  {
   "cell_type": "code",
   "metadata": {
    "id": "zYFDmyKuZXAe",
    "pycharm": {
     "name": "#%%\n"
    }
   },
   "source": [
    "df.loc[1:3, ['first_column', 'second_column']]"
   ],
   "execution_count": 39,
   "outputs": [
    {
     "data": {
      "text/plain": "   first_column  second_column\n1           1.0              1\n2           2.0              2\n3           3.0              3",
      "text/html": "<div>\n<style scoped>\n    .dataframe tbody tr th:only-of-type {\n        vertical-align: middle;\n    }\n\n    .dataframe tbody tr th {\n        vertical-align: top;\n    }\n\n    .dataframe thead th {\n        text-align: right;\n    }\n</style>\n<table border=\"1\" class=\"dataframe\">\n  <thead>\n    <tr style=\"text-align: right;\">\n      <th></th>\n      <th>first_column</th>\n      <th>second_column</th>\n    </tr>\n  </thead>\n  <tbody>\n    <tr>\n      <th>1</th>\n      <td>1.0</td>\n      <td>1</td>\n    </tr>\n    <tr>\n      <th>2</th>\n      <td>2.0</td>\n      <td>2</td>\n    </tr>\n    <tr>\n      <th>3</th>\n      <td>3.0</td>\n      <td>3</td>\n    </tr>\n  </tbody>\n</table>\n</div>"
     },
     "execution_count": 39,
     "metadata": {},
     "output_type": "execute_result"
    }
   ]
  },
  {
   "cell_type": "markdown",
   "metadata": {
    "id": "5t-ftb9cZXAh",
    "pycharm": {
     "name": "#%% md\n"
    }
   },
   "source": [
    "Лучше использовать по умолчанию либо только loc, либо только .iloc! А лучше вообще всегда только .iloc, чтобы не запутаться."
   ]
  },
  {
   "cell_type": "markdown",
   "metadata": {
    "id": "5CNJP5R9ZXAi",
    "pycharm": {
     "name": "#%% md\n"
    }
   },
   "source": [
    "### Модификации датасета, создание новых колонок\n",
    "Можно просто брать и создавать новую колонку. Синтаксис тут вполне естественный."
   ]
  },
  {
   "cell_type": "code",
   "metadata": {
    "id": "6kaeuYv5ZXAi",
    "pycharm": {
     "name": "#%%\n"
    }
   },
   "source": [
    "new_column = [5,2,1,4]\n",
    "df['new_column'] = new_column\n",
    "df"
   ],
   "execution_count": 40,
   "outputs": [
    {
     "data": {
      "text/plain": "   first_column  second_column  third_column  new_column\n1           1.0              1             5           5\n2           2.0              2             6           2\n3           3.0              3             7           1\n4           NaN              4             8           4",
      "text/html": "<div>\n<style scoped>\n    .dataframe tbody tr th:only-of-type {\n        vertical-align: middle;\n    }\n\n    .dataframe tbody tr th {\n        vertical-align: top;\n    }\n\n    .dataframe thead th {\n        text-align: right;\n    }\n</style>\n<table border=\"1\" class=\"dataframe\">\n  <thead>\n    <tr style=\"text-align: right;\">\n      <th></th>\n      <th>first_column</th>\n      <th>second_column</th>\n      <th>third_column</th>\n      <th>new_column</th>\n    </tr>\n  </thead>\n  <tbody>\n    <tr>\n      <th>1</th>\n      <td>1.0</td>\n      <td>1</td>\n      <td>5</td>\n      <td>5</td>\n    </tr>\n    <tr>\n      <th>2</th>\n      <td>2.0</td>\n      <td>2</td>\n      <td>6</td>\n      <td>2</td>\n    </tr>\n    <tr>\n      <th>3</th>\n      <td>3.0</td>\n      <td>3</td>\n      <td>7</td>\n      <td>1</td>\n    </tr>\n    <tr>\n      <th>4</th>\n      <td>NaN</td>\n      <td>4</td>\n      <td>8</td>\n      <td>4</td>\n    </tr>\n  </tbody>\n</table>\n</div>"
     },
     "execution_count": 40,
     "metadata": {},
     "output_type": "execute_result"
    }
   ]
  },
  {
   "cell_type": "markdown",
   "metadata": {
    "id": "5YE5poCmZXAm",
    "pycharm": {
     "name": "#%% md\n"
    }
   },
   "source": [
    "Аналогично, можно применять к отдельным колонкам арифметические операции (ведь колонки --- это Series!)"
   ]
  },
  {
   "cell_type": "code",
   "metadata": {
    "id": "9mHh66JYZXAm",
    "pycharm": {
     "name": "#%%\n"
    }
   },
   "source": [
    "df['first_column'] = df['first_column'] * 10\n",
    "df"
   ],
   "execution_count": 41,
   "outputs": [
    {
     "data": {
      "text/plain": "   first_column  second_column  third_column  new_column\n1          10.0              1             5           5\n2          20.0              2             6           2\n3          30.0              3             7           1\n4           NaN              4             8           4",
      "text/html": "<div>\n<style scoped>\n    .dataframe tbody tr th:only-of-type {\n        vertical-align: middle;\n    }\n\n    .dataframe tbody tr th {\n        vertical-align: top;\n    }\n\n    .dataframe thead th {\n        text-align: right;\n    }\n</style>\n<table border=\"1\" class=\"dataframe\">\n  <thead>\n    <tr style=\"text-align: right;\">\n      <th></th>\n      <th>first_column</th>\n      <th>second_column</th>\n      <th>third_column</th>\n      <th>new_column</th>\n    </tr>\n  </thead>\n  <tbody>\n    <tr>\n      <th>1</th>\n      <td>10.0</td>\n      <td>1</td>\n      <td>5</td>\n      <td>5</td>\n    </tr>\n    <tr>\n      <th>2</th>\n      <td>20.0</td>\n      <td>2</td>\n      <td>6</td>\n      <td>2</td>\n    </tr>\n    <tr>\n      <th>3</th>\n      <td>30.0</td>\n      <td>3</td>\n      <td>7</td>\n      <td>1</td>\n    </tr>\n    <tr>\n      <th>4</th>\n      <td>NaN</td>\n      <td>4</td>\n      <td>8</td>\n      <td>4</td>\n    </tr>\n  </tbody>\n</table>\n</div>"
     },
     "execution_count": 41,
     "metadata": {},
     "output_type": "execute_result"
    }
   ]
  },
  {
   "cell_type": "markdown",
   "metadata": {
    "id": "RFRifpW7ZXAq",
    "pycharm": {
     "name": "#%% md\n"
    }
   },
   "source": [
    "## Реальный датасет\n",
    "Мы будем работать с датасетом ``Титаник``. Файлы необходимо скачать локально или загрузить с помощью функции ниже.\n",
    "![alt text](https://drive.google.com/uc?id=1Tb52nFFsjI8sqv0AlMpx25aNJ62xzp5w)\n",
    "\n",
    "Информация о файлах: \n",
    " - *titanic_data.csv* содержит различную информацию о пассажирах Титаника (билет, класс, возраст и т.п.)\n",
    " - *titanic_surv.csv* содержит для каждого пассажира из первого файла информацию о том, выжил ли этот пассажир (метка 1) или нет (метка 0)\n",
    "\n",
    "\n",
    "### Чтение из файла\n",
    "Обычно данные хранятся в виде таблиц в файлах формата .csv или .xlsx. На этом семинаре мы будем загружать данные из .csv файлов.\n",
    "\n",
    "\n",
    " \n",
    "Загрузим первый файл"
   ]
  },
  {
   "cell_type": "code",
   "metadata": {
    "scrolled": false,
    "id": "09s-lp8cZXAr",
    "pycharm": {
     "name": "#%%\n"
    }
   },
   "source": [
    "titanic_passengers = pd.read_csv('tested.csv')\n",
    "pass_link = '/Users/viktoriaambrosimova/DataSpell'\n",
    "#titanic_passengers = pd.read_csv(pass_link, index_col='PassengerId') # index_col=?\n",
    "titanic_passengers.head()"
   ],
   "execution_count": 46,
   "outputs": [
    {
     "data": {
      "text/plain": "   PassengerId  Survived  Pclass  \\\n0          892         0       3   \n1          893         1       3   \n2          894         0       2   \n3          895         0       3   \n4          896         1       3   \n\n                                           Name     Sex   Age  SibSp  Parch  \\\n0                              Kelly, Mr. James    male  34.5      0      0   \n1              Wilkes, Mrs. James (Ellen Needs)  female  47.0      1      0   \n2                     Myles, Mr. Thomas Francis    male  62.0      0      0   \n3                              Wirz, Mr. Albert    male  27.0      0      0   \n4  Hirvonen, Mrs. Alexander (Helga E Lindqvist)  female  22.0      1      1   \n\n    Ticket     Fare Cabin Embarked  \n0   330911   7.8292   NaN        Q  \n1   363272   7.0000   NaN        S  \n2   240276   9.6875   NaN        Q  \n3   315154   8.6625   NaN        S  \n4  3101298  12.2875   NaN        S  ",
      "text/html": "<div>\n<style scoped>\n    .dataframe tbody tr th:only-of-type {\n        vertical-align: middle;\n    }\n\n    .dataframe tbody tr th {\n        vertical-align: top;\n    }\n\n    .dataframe thead th {\n        text-align: right;\n    }\n</style>\n<table border=\"1\" class=\"dataframe\">\n  <thead>\n    <tr style=\"text-align: right;\">\n      <th></th>\n      <th>PassengerId</th>\n      <th>Survived</th>\n      <th>Pclass</th>\n      <th>Name</th>\n      <th>Sex</th>\n      <th>Age</th>\n      <th>SibSp</th>\n      <th>Parch</th>\n      <th>Ticket</th>\n      <th>Fare</th>\n      <th>Cabin</th>\n      <th>Embarked</th>\n    </tr>\n  </thead>\n  <tbody>\n    <tr>\n      <th>0</th>\n      <td>892</td>\n      <td>0</td>\n      <td>3</td>\n      <td>Kelly, Mr. James</td>\n      <td>male</td>\n      <td>34.5</td>\n      <td>0</td>\n      <td>0</td>\n      <td>330911</td>\n      <td>7.8292</td>\n      <td>NaN</td>\n      <td>Q</td>\n    </tr>\n    <tr>\n      <th>1</th>\n      <td>893</td>\n      <td>1</td>\n      <td>3</td>\n      <td>Wilkes, Mrs. James (Ellen Needs)</td>\n      <td>female</td>\n      <td>47.0</td>\n      <td>1</td>\n      <td>0</td>\n      <td>363272</td>\n      <td>7.0000</td>\n      <td>NaN</td>\n      <td>S</td>\n    </tr>\n    <tr>\n      <th>2</th>\n      <td>894</td>\n      <td>0</td>\n      <td>2</td>\n      <td>Myles, Mr. Thomas Francis</td>\n      <td>male</td>\n      <td>62.0</td>\n      <td>0</td>\n      <td>0</td>\n      <td>240276</td>\n      <td>9.6875</td>\n      <td>NaN</td>\n      <td>Q</td>\n    </tr>\n    <tr>\n      <th>3</th>\n      <td>895</td>\n      <td>0</td>\n      <td>3</td>\n      <td>Wirz, Mr. Albert</td>\n      <td>male</td>\n      <td>27.0</td>\n      <td>0</td>\n      <td>0</td>\n      <td>315154</td>\n      <td>8.6625</td>\n      <td>NaN</td>\n      <td>S</td>\n    </tr>\n    <tr>\n      <th>4</th>\n      <td>896</td>\n      <td>1</td>\n      <td>3</td>\n      <td>Hirvonen, Mrs. Alexander (Helga E Lindqvist)</td>\n      <td>female</td>\n      <td>22.0</td>\n      <td>1</td>\n      <td>1</td>\n      <td>3101298</td>\n      <td>12.2875</td>\n      <td>NaN</td>\n      <td>S</td>\n    </tr>\n  </tbody>\n</table>\n</div>"
     },
     "execution_count": 46,
     "metadata": {},
     "output_type": "execute_result"
    }
   ]
  },
  {
   "cell_type": "code",
   "metadata": {
    "id": "tK0Q-0SwZXAu",
    "pycharm": {
     "name": "#%%\n"
    }
   },
   "source": [
    "print('Всего пассажиров: ', len(titanic_passengers))\n",
    "titanic_passengers.head(10)"
   ],
   "execution_count": 47,
   "outputs": [
    {
     "name": "stdout",
     "output_type": "stream",
     "text": [
      "Всего пассажиров:  418\n"
     ]
    },
    {
     "data": {
      "text/plain": "   PassengerId  Survived  Pclass  \\\n0          892         0       3   \n1          893         1       3   \n2          894         0       2   \n3          895         0       3   \n4          896         1       3   \n5          897         0       3   \n6          898         1       3   \n7          899         0       2   \n8          900         1       3   \n9          901         0       3   \n\n                                           Name     Sex   Age  SibSp  Parch  \\\n0                              Kelly, Mr. James    male  34.5      0      0   \n1              Wilkes, Mrs. James (Ellen Needs)  female  47.0      1      0   \n2                     Myles, Mr. Thomas Francis    male  62.0      0      0   \n3                              Wirz, Mr. Albert    male  27.0      0      0   \n4  Hirvonen, Mrs. Alexander (Helga E Lindqvist)  female  22.0      1      1   \n5                    Svensson, Mr. Johan Cervin    male  14.0      0      0   \n6                          Connolly, Miss. Kate  female  30.0      0      0   \n7                  Caldwell, Mr. Albert Francis    male  26.0      1      1   \n8     Abrahim, Mrs. Joseph (Sophie Halaut Easu)  female  18.0      0      0   \n9                       Davies, Mr. John Samuel    male  21.0      2      0   \n\n      Ticket     Fare Cabin Embarked  \n0     330911   7.8292   NaN        Q  \n1     363272   7.0000   NaN        S  \n2     240276   9.6875   NaN        Q  \n3     315154   8.6625   NaN        S  \n4    3101298  12.2875   NaN        S  \n5       7538   9.2250   NaN        S  \n6     330972   7.6292   NaN        Q  \n7     248738  29.0000   NaN        S  \n8       2657   7.2292   NaN        C  \n9  A/4 48871  24.1500   NaN        S  ",
      "text/html": "<div>\n<style scoped>\n    .dataframe tbody tr th:only-of-type {\n        vertical-align: middle;\n    }\n\n    .dataframe tbody tr th {\n        vertical-align: top;\n    }\n\n    .dataframe thead th {\n        text-align: right;\n    }\n</style>\n<table border=\"1\" class=\"dataframe\">\n  <thead>\n    <tr style=\"text-align: right;\">\n      <th></th>\n      <th>PassengerId</th>\n      <th>Survived</th>\n      <th>Pclass</th>\n      <th>Name</th>\n      <th>Sex</th>\n      <th>Age</th>\n      <th>SibSp</th>\n      <th>Parch</th>\n      <th>Ticket</th>\n      <th>Fare</th>\n      <th>Cabin</th>\n      <th>Embarked</th>\n    </tr>\n  </thead>\n  <tbody>\n    <tr>\n      <th>0</th>\n      <td>892</td>\n      <td>0</td>\n      <td>3</td>\n      <td>Kelly, Mr. James</td>\n      <td>male</td>\n      <td>34.5</td>\n      <td>0</td>\n      <td>0</td>\n      <td>330911</td>\n      <td>7.8292</td>\n      <td>NaN</td>\n      <td>Q</td>\n    </tr>\n    <tr>\n      <th>1</th>\n      <td>893</td>\n      <td>1</td>\n      <td>3</td>\n      <td>Wilkes, Mrs. James (Ellen Needs)</td>\n      <td>female</td>\n      <td>47.0</td>\n      <td>1</td>\n      <td>0</td>\n      <td>363272</td>\n      <td>7.0000</td>\n      <td>NaN</td>\n      <td>S</td>\n    </tr>\n    <tr>\n      <th>2</th>\n      <td>894</td>\n      <td>0</td>\n      <td>2</td>\n      <td>Myles, Mr. Thomas Francis</td>\n      <td>male</td>\n      <td>62.0</td>\n      <td>0</td>\n      <td>0</td>\n      <td>240276</td>\n      <td>9.6875</td>\n      <td>NaN</td>\n      <td>Q</td>\n    </tr>\n    <tr>\n      <th>3</th>\n      <td>895</td>\n      <td>0</td>\n      <td>3</td>\n      <td>Wirz, Mr. Albert</td>\n      <td>male</td>\n      <td>27.0</td>\n      <td>0</td>\n      <td>0</td>\n      <td>315154</td>\n      <td>8.6625</td>\n      <td>NaN</td>\n      <td>S</td>\n    </tr>\n    <tr>\n      <th>4</th>\n      <td>896</td>\n      <td>1</td>\n      <td>3</td>\n      <td>Hirvonen, Mrs. Alexander (Helga E Lindqvist)</td>\n      <td>female</td>\n      <td>22.0</td>\n      <td>1</td>\n      <td>1</td>\n      <td>3101298</td>\n      <td>12.2875</td>\n      <td>NaN</td>\n      <td>S</td>\n    </tr>\n    <tr>\n      <th>5</th>\n      <td>897</td>\n      <td>0</td>\n      <td>3</td>\n      <td>Svensson, Mr. Johan Cervin</td>\n      <td>male</td>\n      <td>14.0</td>\n      <td>0</td>\n      <td>0</td>\n      <td>7538</td>\n      <td>9.2250</td>\n      <td>NaN</td>\n      <td>S</td>\n    </tr>\n    <tr>\n      <th>6</th>\n      <td>898</td>\n      <td>1</td>\n      <td>3</td>\n      <td>Connolly, Miss. Kate</td>\n      <td>female</td>\n      <td>30.0</td>\n      <td>0</td>\n      <td>0</td>\n      <td>330972</td>\n      <td>7.6292</td>\n      <td>NaN</td>\n      <td>Q</td>\n    </tr>\n    <tr>\n      <th>7</th>\n      <td>899</td>\n      <td>0</td>\n      <td>2</td>\n      <td>Caldwell, Mr. Albert Francis</td>\n      <td>male</td>\n      <td>26.0</td>\n      <td>1</td>\n      <td>1</td>\n      <td>248738</td>\n      <td>29.0000</td>\n      <td>NaN</td>\n      <td>S</td>\n    </tr>\n    <tr>\n      <th>8</th>\n      <td>900</td>\n      <td>1</td>\n      <td>3</td>\n      <td>Abrahim, Mrs. Joseph (Sophie Halaut Easu)</td>\n      <td>female</td>\n      <td>18.0</td>\n      <td>0</td>\n      <td>0</td>\n      <td>2657</td>\n      <td>7.2292</td>\n      <td>NaN</td>\n      <td>C</td>\n    </tr>\n    <tr>\n      <th>9</th>\n      <td>901</td>\n      <td>0</td>\n      <td>3</td>\n      <td>Davies, Mr. John Samuel</td>\n      <td>male</td>\n      <td>21.0</td>\n      <td>2</td>\n      <td>0</td>\n      <td>A/4 48871</td>\n      <td>24.1500</td>\n      <td>NaN</td>\n      <td>S</td>\n    </tr>\n  </tbody>\n</table>\n</div>"
     },
     "execution_count": 47,
     "metadata": {},
     "output_type": "execute_result"
    }
   ]
  },
  {
   "cell_type": "markdown",
   "metadata": {
    "id": "ctQdw9QJKEdS",
    "pycharm": {
     "name": "#%% md\n"
    }
   },
   "source": [
    "### Разная информация о датасете\n",
    "\n",
    "Можно узнать размер таблицы, информацию о значениях таблицы, различные статистики по значениям."
   ]
  },
  {
   "cell_type": "code",
   "metadata": {
    "id": "KV2UGt9KKEdS",
    "pycharm": {
     "name": "#%%\n"
    }
   },
   "source": [
    "titanic_passengers.shape"
   ],
   "execution_count": 48,
   "outputs": [
    {
     "data": {
      "text/plain": "(418, 12)"
     },
     "execution_count": 48,
     "metadata": {},
     "output_type": "execute_result"
    }
   ]
  },
  {
   "cell_type": "code",
   "metadata": {
    "id": "0oYzDhBpKEdW",
    "scrolled": false,
    "pycharm": {
     "name": "#%%\n"
    }
   },
   "source": [
    "titanic_passengers.info()"
   ],
   "execution_count": 49,
   "outputs": [
    {
     "name": "stdout",
     "output_type": "stream",
     "text": [
      "<class 'pandas.core.frame.DataFrame'>\n",
      "RangeIndex: 418 entries, 0 to 417\n",
      "Data columns (total 12 columns):\n",
      " #   Column       Non-Null Count  Dtype  \n",
      "---  ------       --------------  -----  \n",
      " 0   PassengerId  418 non-null    int64  \n",
      " 1   Survived     418 non-null    int64  \n",
      " 2   Pclass       418 non-null    int64  \n",
      " 3   Name         418 non-null    object \n",
      " 4   Sex          418 non-null    object \n",
      " 5   Age          332 non-null    float64\n",
      " 6   SibSp        418 non-null    int64  \n",
      " 7   Parch        418 non-null    int64  \n",
      " 8   Ticket       418 non-null    object \n",
      " 9   Fare         417 non-null    float64\n",
      " 10  Cabin        91 non-null     object \n",
      " 11  Embarked     418 non-null    object \n",
      "dtypes: float64(2), int64(5), object(5)\n",
      "memory usage: 39.3+ KB\n"
     ]
    }
   ]
  },
  {
   "cell_type": "code",
   "execution_count": null,
   "outputs": [],
   "source": [],
   "metadata": {
    "collapsed": false,
    "pycharm": {
     "name": "#%%\n"
    }
   }
  },
  {
   "cell_type": "code",
   "metadata": {
    "id": "hwIV2xUNZXA4",
    "pycharm": {
     "name": "#%%\n"
    }
   },
   "source": [
    "titanic_passengers.describe()"
   ],
   "execution_count": 50,
   "outputs": [
    {
     "data": {
      "text/plain": "       PassengerId    Survived      Pclass         Age       SibSp  \\\ncount   418.000000  418.000000  418.000000  332.000000  418.000000   \nmean   1100.500000    0.363636    2.265550   30.272590    0.447368   \nstd     120.810458    0.481622    0.841838   14.181209    0.896760   \nmin     892.000000    0.000000    1.000000    0.170000    0.000000   \n25%     996.250000    0.000000    1.000000   21.000000    0.000000   \n50%    1100.500000    0.000000    3.000000   27.000000    0.000000   \n75%    1204.750000    1.000000    3.000000   39.000000    1.000000   \nmax    1309.000000    1.000000    3.000000   76.000000    8.000000   \n\n            Parch        Fare  \ncount  418.000000  417.000000  \nmean     0.392344   35.627188  \nstd      0.981429   55.907576  \nmin      0.000000    0.000000  \n25%      0.000000    7.895800  \n50%      0.000000   14.454200  \n75%      0.000000   31.500000  \nmax      9.000000  512.329200  ",
      "text/html": "<div>\n<style scoped>\n    .dataframe tbody tr th:only-of-type {\n        vertical-align: middle;\n    }\n\n    .dataframe tbody tr th {\n        vertical-align: top;\n    }\n\n    .dataframe thead th {\n        text-align: right;\n    }\n</style>\n<table border=\"1\" class=\"dataframe\">\n  <thead>\n    <tr style=\"text-align: right;\">\n      <th></th>\n      <th>PassengerId</th>\n      <th>Survived</th>\n      <th>Pclass</th>\n      <th>Age</th>\n      <th>SibSp</th>\n      <th>Parch</th>\n      <th>Fare</th>\n    </tr>\n  </thead>\n  <tbody>\n    <tr>\n      <th>count</th>\n      <td>418.000000</td>\n      <td>418.000000</td>\n      <td>418.000000</td>\n      <td>332.000000</td>\n      <td>418.000000</td>\n      <td>418.000000</td>\n      <td>417.000000</td>\n    </tr>\n    <tr>\n      <th>mean</th>\n      <td>1100.500000</td>\n      <td>0.363636</td>\n      <td>2.265550</td>\n      <td>30.272590</td>\n      <td>0.447368</td>\n      <td>0.392344</td>\n      <td>35.627188</td>\n    </tr>\n    <tr>\n      <th>std</th>\n      <td>120.810458</td>\n      <td>0.481622</td>\n      <td>0.841838</td>\n      <td>14.181209</td>\n      <td>0.896760</td>\n      <td>0.981429</td>\n      <td>55.907576</td>\n    </tr>\n    <tr>\n      <th>min</th>\n      <td>892.000000</td>\n      <td>0.000000</td>\n      <td>1.000000</td>\n      <td>0.170000</td>\n      <td>0.000000</td>\n      <td>0.000000</td>\n      <td>0.000000</td>\n    </tr>\n    <tr>\n      <th>25%</th>\n      <td>996.250000</td>\n      <td>0.000000</td>\n      <td>1.000000</td>\n      <td>21.000000</td>\n      <td>0.000000</td>\n      <td>0.000000</td>\n      <td>7.895800</td>\n    </tr>\n    <tr>\n      <th>50%</th>\n      <td>1100.500000</td>\n      <td>0.000000</td>\n      <td>3.000000</td>\n      <td>27.000000</td>\n      <td>0.000000</td>\n      <td>0.000000</td>\n      <td>14.454200</td>\n    </tr>\n    <tr>\n      <th>75%</th>\n      <td>1204.750000</td>\n      <td>1.000000</td>\n      <td>3.000000</td>\n      <td>39.000000</td>\n      <td>1.000000</td>\n      <td>0.000000</td>\n      <td>31.500000</td>\n    </tr>\n    <tr>\n      <th>max</th>\n      <td>1309.000000</td>\n      <td>1.000000</td>\n      <td>3.000000</td>\n      <td>76.000000</td>\n      <td>8.000000</td>\n      <td>9.000000</td>\n      <td>512.329200</td>\n    </tr>\n  </tbody>\n</table>\n</div>"
     },
     "execution_count": 50,
     "metadata": {},
     "output_type": "execute_result"
    }
   ]
  },
  {
   "cell_type": "markdown",
   "metadata": {
    "id": "g5xmllriZXA7",
    "pycharm": {
     "name": "#%% md\n"
    }
   },
   "source": [
    "## Задание 1 \n",
    "Опишите данный датасет: какое расределение женщин/мужчин в нем? Сколько пассажиров ехало в каждом классе? Какой средний/минимальный/максимальный возраст пассажиров?"
   ]
  },
  {
   "cell_type": "code",
   "metadata": {
    "id": "mfzKrjCGZXA7",
    "pycharm": {
     "name": "#%%\n"
    }
   },
   "source": [
    "(titanic_passengers['Age'].min(), titanic_passengers['Age'].mean(), titanic_passengers['Age'].max())"
   ],
   "execution_count": 53,
   "outputs": [
    {
     "data": {
      "text/plain": "(0.17, 30.272590361445783, 76.0)"
     },
     "execution_count": 53,
     "metadata": {},
     "output_type": "execute_result"
    }
   ]
  },
  {
   "cell_type": "code",
   "metadata": {
    "id": "kttv99jP62oa",
    "pycharm": {
     "name": "#%%\n"
    }
   },
   "source": [
    "titanic_passengers['Sex'].value_counts()"
   ],
   "execution_count": 54,
   "outputs": [
    {
     "data": {
      "text/plain": "male      266\nfemale    152\nName: Sex, dtype: int64"
     },
     "execution_count": 54,
     "metadata": {},
     "output_type": "execute_result"
    }
   ]
  },
  {
   "cell_type": "code",
   "metadata": {
    "id": "Abzvok6x7F1J",
    "pycharm": {
     "name": "#%%\n"
    }
   },
   "source": [
    "titanic_passengers['Pclass'].value_counts()"
   ],
   "execution_count": 55,
   "outputs": [
    {
     "data": {
      "text/plain": "3    218\n1    107\n2     93\nName: Pclass, dtype: int64"
     },
     "execution_count": 55,
     "metadata": {},
     "output_type": "execute_result"
    }
   ]
  },
  {
   "cell_type": "markdown",
   "metadata": {
    "id": "t5uMRdo9ZXBA",
    "pycharm": {
     "name": "#%% md\n"
    }
   },
   "source": [
    "## Задание 2\n",
    "Сгруппируйте записи по классам пассажиров, в каждой группе посчитайте средний возраст. Используйте метод ``pandas.DataFrame.groupby``."
   ]
  },
  {
   "cell_type": "code",
   "metadata": {
    "id": "Vuc7SrbL6emZ",
    "pycharm": {
     "name": "#%%\n"
    }
   },
   "source": [
    "titanic_passengers.groupby(['Pclass']).mean()"
   ],
   "execution_count": 66,
   "outputs": [
    {
     "data": {
      "text/plain": "        PassengerId  Survived        Age     SibSp     Parch       Fare\nPclass                                                                 \n1       1098.224299  0.467290  40.918367  0.476636  0.383178  94.280297\n2       1117.935484  0.322581  28.777500  0.376344  0.344086  22.202104\n3       1094.178899  0.330275  24.027945  0.463303  0.417431  12.459678",
      "text/html": "<div>\n<style scoped>\n    .dataframe tbody tr th:only-of-type {\n        vertical-align: middle;\n    }\n\n    .dataframe tbody tr th {\n        vertical-align: top;\n    }\n\n    .dataframe thead th {\n        text-align: right;\n    }\n</style>\n<table border=\"1\" class=\"dataframe\">\n  <thead>\n    <tr style=\"text-align: right;\">\n      <th></th>\n      <th>PassengerId</th>\n      <th>Survived</th>\n      <th>Age</th>\n      <th>SibSp</th>\n      <th>Parch</th>\n      <th>Fare</th>\n    </tr>\n    <tr>\n      <th>Pclass</th>\n      <th></th>\n      <th></th>\n      <th></th>\n      <th></th>\n      <th></th>\n      <th></th>\n    </tr>\n  </thead>\n  <tbody>\n    <tr>\n      <th>1</th>\n      <td>1098.224299</td>\n      <td>0.467290</td>\n      <td>40.918367</td>\n      <td>0.476636</td>\n      <td>0.383178</td>\n      <td>94.280297</td>\n    </tr>\n    <tr>\n      <th>2</th>\n      <td>1117.935484</td>\n      <td>0.322581</td>\n      <td>28.777500</td>\n      <td>0.376344</td>\n      <td>0.344086</td>\n      <td>22.202104</td>\n    </tr>\n    <tr>\n      <th>3</th>\n      <td>1094.178899</td>\n      <td>0.330275</td>\n      <td>24.027945</td>\n      <td>0.463303</td>\n      <td>0.417431</td>\n      <td>12.459678</td>\n    </tr>\n  </tbody>\n</table>\n</div>"
     },
     "execution_count": 66,
     "metadata": {},
     "output_type": "execute_result"
    }
   ]
  },
  {
   "cell_type": "code",
   "metadata": {
    "id": "xiy74OyzZXBB",
    "pycharm": {
     "name": "#%%\n"
    }
   },
   "source": [
    "titanic_passengers.groupby(['Pclass'])['Age'].mean()"
   ],
   "execution_count": 65,
   "outputs": [
    {
     "data": {
      "text/plain": "Pclass\n1    40.918367\n2    28.777500\n3    24.027945\nName: Age, dtype: float64"
     },
     "execution_count": 65,
     "metadata": {},
     "output_type": "execute_result"
    }
   ]
  },
  {
   "cell_type": "markdown",
   "metadata": {
    "id": "j0vCpyp6ZXBF",
    "pycharm": {
     "name": "#%% md\n"
    }
   },
   "source": [
    "## Слияние таблиц\n",
    "Таблицы можно сливать несколькими способами. Мы рассмотрим слияние по индексу: метод называется ``pd.join``."
   ]
  },
  {
   "cell_type": "code",
   "metadata": {
    "id": "9hRs1VtpZXBG",
    "pycharm": {
     "name": "#%%\n"
    }
   },
   "source": [
    "# df_2 = pd.read_csv('titanic_surv.csv')\n",
    "#surv_link = 'https://www.dropbox.com/s/v35x9i6a1tc7emm/titanic_surv.csv?dl=1'\n",
    "titanic_passengers['Survived'][0] = 0\n",
    "df_2 = titanic_passengers['Survived'].copy()"
   ],
   "execution_count": 72,
   "outputs": [
    {
     "name": "stderr",
     "output_type": "stream",
     "text": [
      "/Users/viktoriaambrosimova/DataSpellProject/dsProject/venv/lib/python3.7/site-packages/ipykernel_launcher.py:3: SettingWithCopyWarning: \n",
      "A value is trying to be set on a copy of a slice from a DataFrame\n",
      "\n",
      "See the caveats in the documentation: https://pandas.pydata.org/pandas-docs/stable/user_guide/indexing.html#returning-a-view-versus-a-copy\n",
      "  This is separate from the ipykernel package so we can avoid doing imports until\n"
     ]
    }
   ]
  },
  {
   "cell_type": "code",
   "metadata": {
    "id": "NwdiJWqG6k6J",
    "pycharm": {
     "name": "#%%\n"
    }
   },
   "source": [
    "df_2"
   ],
   "execution_count": 81,
   "outputs": [
    {
     "data": {
      "text/plain": "1      1\n2      0\n3      0\n4      1\n5      0\n      ..\n414    0\n415    0\n416    0\n417    1\n418    0\nName: Survived, Length: 418, dtype: int64"
     },
     "execution_count": 81,
     "metadata": {},
     "output_type": "execute_result"
    }
   ]
  },
  {
   "cell_type": "markdown",
   "metadata": {
    "id": "EuO4PhriZXBL",
    "pycharm": {
     "name": "#%% md\n"
    }
   },
   "source": [
    "### Задание 3.\n",
    "Слейте два датасета по колонке индекса."
   ]
  },
  {
   "cell_type": "code",
   "metadata": {
    "id": "UnS7_o2a9LY-",
    "pycharm": {
     "name": "#%%\n"
    }
   },
   "source": [
    "df_2.index = np.arange(1, 419)\n",
    "df_2.head()"
   ],
   "execution_count": 82,
   "outputs": [
    {
     "data": {
      "text/plain": "1    1\n2    0\n3    0\n4    1\n5    0\nName: Survived, dtype: int64"
     },
     "execution_count": 82,
     "metadata": {},
     "output_type": "execute_result"
    }
   ]
  },
  {
   "cell_type": "code",
   "metadata": {
    "id": "r3sLiKyAmSGM",
    "pycharm": {
     "name": "#%%\n"
    }
   },
   "source": [
    "df_2 = df_2.sample(frac=1)\n",
    "df_2.head()"
   ],
   "execution_count": 83,
   "outputs": [
    {
     "data": {
      "text/plain": "333    0\n409    0\n381    1\n133    0\n235    1\nName: Survived, dtype: int64"
     },
     "execution_count": 83,
     "metadata": {},
     "output_type": "execute_result"
    }
   ]
  },
  {
   "cell_type": "code",
   "metadata": {
    "id": "lGKSBVplZXBM",
    "pycharm": {
     "name": "#%%\n"
    }
   },
   "source": [
    "titanic_passengers = titanic_passengers.join(df_2)\n",
    "titanic_passengers.head()"
   ],
   "execution_count": 84,
   "outputs": [
    {
     "ename": "ValueError",
     "evalue": "columns overlap but no suffix specified: Index(['Survived'], dtype='object')",
     "output_type": "error",
     "traceback": [
      "\u001B[0;31m---------------------------------------------------------------------------\u001B[0m",
      "\u001B[0;31mValueError\u001B[0m                                Traceback (most recent call last)",
      "\u001B[0;32m/var/folders/vp/_6v9pjzx5pb_0chxpzcjxyx00000gn/T/ipykernel_4630/845099335.py\u001B[0m in \u001B[0;36m<module>\u001B[0;34m\u001B[0m\n\u001B[0;32m----> 1\u001B[0;31m \u001B[0mtitanic_passengers\u001B[0m \u001B[0;34m=\u001B[0m \u001B[0mtitanic_passengers\u001B[0m\u001B[0;34m.\u001B[0m\u001B[0mjoin\u001B[0m\u001B[0;34m(\u001B[0m\u001B[0mdf_2\u001B[0m\u001B[0;34m)\u001B[0m\u001B[0;34m\u001B[0m\u001B[0;34m\u001B[0m\u001B[0m\n\u001B[0m\u001B[1;32m      2\u001B[0m \u001B[0mtitanic_passengers\u001B[0m\u001B[0;34m.\u001B[0m\u001B[0mhead\u001B[0m\u001B[0;34m(\u001B[0m\u001B[0;34m)\u001B[0m\u001B[0;34m\u001B[0m\u001B[0;34m\u001B[0m\u001B[0m\n",
      "\u001B[0;32m~/DataSpellProject/dsProject/venv/lib/python3.7/site-packages/pandas/core/frame.py\u001B[0m in \u001B[0;36mjoin\u001B[0;34m(self, other, on, how, lsuffix, rsuffix, sort)\u001B[0m\n\u001B[1;32m   9098\u001B[0m         \"\"\"\n\u001B[1;32m   9099\u001B[0m         return self._join_compat(\n\u001B[0;32m-> 9100\u001B[0;31m             \u001B[0mother\u001B[0m\u001B[0;34m,\u001B[0m \u001B[0mon\u001B[0m\u001B[0;34m=\u001B[0m\u001B[0mon\u001B[0m\u001B[0;34m,\u001B[0m \u001B[0mhow\u001B[0m\u001B[0;34m=\u001B[0m\u001B[0mhow\u001B[0m\u001B[0;34m,\u001B[0m \u001B[0mlsuffix\u001B[0m\u001B[0;34m=\u001B[0m\u001B[0mlsuffix\u001B[0m\u001B[0;34m,\u001B[0m \u001B[0mrsuffix\u001B[0m\u001B[0;34m=\u001B[0m\u001B[0mrsuffix\u001B[0m\u001B[0;34m,\u001B[0m \u001B[0msort\u001B[0m\u001B[0;34m=\u001B[0m\u001B[0msort\u001B[0m\u001B[0;34m\u001B[0m\u001B[0;34m\u001B[0m\u001B[0m\n\u001B[0m\u001B[1;32m   9101\u001B[0m         )\n\u001B[1;32m   9102\u001B[0m \u001B[0;34m\u001B[0m\u001B[0m\n",
      "\u001B[0;32m~/DataSpellProject/dsProject/venv/lib/python3.7/site-packages/pandas/core/frame.py\u001B[0m in \u001B[0;36m_join_compat\u001B[0;34m(self, other, on, how, lsuffix, rsuffix, sort)\u001B[0m\n\u001B[1;32m   9136\u001B[0m                 \u001B[0mright_index\u001B[0m\u001B[0;34m=\u001B[0m\u001B[0;32mTrue\u001B[0m\u001B[0;34m,\u001B[0m\u001B[0;34m\u001B[0m\u001B[0;34m\u001B[0m\u001B[0m\n\u001B[1;32m   9137\u001B[0m                 \u001B[0msuffixes\u001B[0m\u001B[0;34m=\u001B[0m\u001B[0;34m(\u001B[0m\u001B[0mlsuffix\u001B[0m\u001B[0;34m,\u001B[0m \u001B[0mrsuffix\u001B[0m\u001B[0;34m)\u001B[0m\u001B[0;34m,\u001B[0m\u001B[0;34m\u001B[0m\u001B[0;34m\u001B[0m\u001B[0m\n\u001B[0;32m-> 9138\u001B[0;31m                 \u001B[0msort\u001B[0m\u001B[0;34m=\u001B[0m\u001B[0msort\u001B[0m\u001B[0;34m,\u001B[0m\u001B[0;34m\u001B[0m\u001B[0;34m\u001B[0m\u001B[0m\n\u001B[0m\u001B[1;32m   9139\u001B[0m             )\n\u001B[1;32m   9140\u001B[0m         \u001B[0;32melse\u001B[0m\u001B[0;34m:\u001B[0m\u001B[0;34m\u001B[0m\u001B[0;34m\u001B[0m\u001B[0m\n",
      "\u001B[0;32m~/DataSpellProject/dsProject/venv/lib/python3.7/site-packages/pandas/core/reshape/merge.py\u001B[0m in \u001B[0;36mmerge\u001B[0;34m(left, right, how, on, left_on, right_on, left_index, right_index, sort, suffixes, copy, indicator, validate)\u001B[0m\n\u001B[1;32m    119\u001B[0m         \u001B[0mvalidate\u001B[0m\u001B[0;34m=\u001B[0m\u001B[0mvalidate\u001B[0m\u001B[0;34m,\u001B[0m\u001B[0;34m\u001B[0m\u001B[0;34m\u001B[0m\u001B[0m\n\u001B[1;32m    120\u001B[0m     )\n\u001B[0;32m--> 121\u001B[0;31m     \u001B[0;32mreturn\u001B[0m \u001B[0mop\u001B[0m\u001B[0;34m.\u001B[0m\u001B[0mget_result\u001B[0m\u001B[0;34m(\u001B[0m\u001B[0;34m)\u001B[0m\u001B[0;34m\u001B[0m\u001B[0;34m\u001B[0m\u001B[0m\n\u001B[0m\u001B[1;32m    122\u001B[0m \u001B[0;34m\u001B[0m\u001B[0m\n\u001B[1;32m    123\u001B[0m \u001B[0;34m\u001B[0m\u001B[0m\n",
      "\u001B[0;32m~/DataSpellProject/dsProject/venv/lib/python3.7/site-packages/pandas/core/reshape/merge.py\u001B[0m in \u001B[0;36mget_result\u001B[0;34m(self)\u001B[0m\n\u001B[1;32m    716\u001B[0m \u001B[0;34m\u001B[0m\u001B[0m\n\u001B[1;32m    717\u001B[0m         llabels, rlabels = _items_overlap_with_suffix(\n\u001B[0;32m--> 718\u001B[0;31m             \u001B[0mself\u001B[0m\u001B[0;34m.\u001B[0m\u001B[0mleft\u001B[0m\u001B[0;34m.\u001B[0m\u001B[0m_info_axis\u001B[0m\u001B[0;34m,\u001B[0m \u001B[0mself\u001B[0m\u001B[0;34m.\u001B[0m\u001B[0mright\u001B[0m\u001B[0;34m.\u001B[0m\u001B[0m_info_axis\u001B[0m\u001B[0;34m,\u001B[0m \u001B[0mself\u001B[0m\u001B[0;34m.\u001B[0m\u001B[0msuffixes\u001B[0m\u001B[0;34m\u001B[0m\u001B[0;34m\u001B[0m\u001B[0m\n\u001B[0m\u001B[1;32m    719\u001B[0m         )\n\u001B[1;32m    720\u001B[0m \u001B[0;34m\u001B[0m\u001B[0m\n",
      "\u001B[0;32m~/DataSpellProject/dsProject/venv/lib/python3.7/site-packages/pandas/core/reshape/merge.py\u001B[0m in \u001B[0;36m_items_overlap_with_suffix\u001B[0;34m(left, right, suffixes)\u001B[0m\n\u001B[1;32m   2312\u001B[0m \u001B[0;34m\u001B[0m\u001B[0m\n\u001B[1;32m   2313\u001B[0m     \u001B[0;32mif\u001B[0m \u001B[0;32mnot\u001B[0m \u001B[0mlsuffix\u001B[0m \u001B[0;32mand\u001B[0m \u001B[0;32mnot\u001B[0m \u001B[0mrsuffix\u001B[0m\u001B[0;34m:\u001B[0m\u001B[0;34m\u001B[0m\u001B[0;34m\u001B[0m\u001B[0m\n\u001B[0;32m-> 2314\u001B[0;31m         \u001B[0;32mraise\u001B[0m \u001B[0mValueError\u001B[0m\u001B[0;34m(\u001B[0m\u001B[0;34mf\"columns overlap but no suffix specified: {to_rename}\"\u001B[0m\u001B[0;34m)\u001B[0m\u001B[0;34m\u001B[0m\u001B[0;34m\u001B[0m\u001B[0m\n\u001B[0m\u001B[1;32m   2315\u001B[0m \u001B[0;34m\u001B[0m\u001B[0m\n\u001B[1;32m   2316\u001B[0m     \u001B[0;32mdef\u001B[0m \u001B[0mrenamer\u001B[0m\u001B[0;34m(\u001B[0m\u001B[0mx\u001B[0m\u001B[0;34m,\u001B[0m \u001B[0msuffix\u001B[0m\u001B[0;34m)\u001B[0m\u001B[0;34m:\u001B[0m\u001B[0;34m\u001B[0m\u001B[0;34m\u001B[0m\u001B[0m\n",
      "\u001B[0;31mValueError\u001B[0m: columns overlap but no suffix specified: Index(['Survived'], dtype='object')"
     ]
    }
   ]
  },
  {
   "cell_type": "markdown",
   "metadata": {
    "id": "nJFa-316ZXBP",
    "pycharm": {
     "name": "#%% md\n"
    }
   },
   "source": [
    "### Задание 4. \n",
    "Сколько всего выживших пассажиров? Выживших пассажиров по каждому из полов? Постройте матрицу корреляций факта выживания, пола и возраста."
   ]
  },
  {
   "cell_type": "code",
   "metadata": {
    "id": "VDl093mWZXBP",
    "pycharm": {
     "name": "#%%\n"
    }
   },
   "source": [
    "titanic_passengers['Survived'].sum()"
   ],
   "execution_count": 85,
   "outputs": [
    {
     "data": {
      "text/plain": "152"
     },
     "execution_count": 85,
     "metadata": {},
     "output_type": "execute_result"
    }
   ]
  },
  {
   "cell_type": "code",
   "metadata": {
    "id": "fOC9INQn7TEi",
    "pycharm": {
     "name": "#%%\n"
    }
   },
   "source": [
    "titanic_passengers.groupby(['Sex'])['Survived'].sum()"
   ],
   "execution_count": 86,
   "outputs": [
    {
     "data": {
      "text/plain": "Sex\nfemale    152\nmale        0\nName: Survived, dtype: int64"
     },
     "execution_count": 86,
     "metadata": {},
     "output_type": "execute_result"
    }
   ]
  },
  {
   "cell_type": "code",
   "metadata": {
    "id": "7cLBYBW87gS9",
    "pycharm": {
     "name": "#%%\n"
    }
   },
   "source": [
    "corr_data = titanic_passengers[['Sex', 'Age', 'Survived']]\n",
    "corr_data['Sex'] = (corr_data['Sex'] == 'female').astype(int)"
   ],
   "execution_count": 87,
   "outputs": [
    {
     "name": "stderr",
     "output_type": "stream",
     "text": [
      "/Users/viktoriaambrosimova/DataSpellProject/dsProject/venv/lib/python3.7/site-packages/ipykernel_launcher.py:2: SettingWithCopyWarning: \n",
      "A value is trying to be set on a copy of a slice from a DataFrame.\n",
      "Try using .loc[row_indexer,col_indexer] = value instead\n",
      "\n",
      "See the caveats in the documentation: https://pandas.pydata.org/pandas-docs/stable/user_guide/indexing.html#returning-a-view-versus-a-copy\n",
      "  \n"
     ]
    }
   ]
  },
  {
   "cell_type": "code",
   "metadata": {
    "id": "PqsJXrir1jbA",
    "pycharm": {
     "name": "#%%\n"
    }
   },
   "source": [
    "corr_data.head()"
   ],
   "execution_count": 88,
   "outputs": [
    {
     "data": {
      "text/plain": "   Sex   Age  Survived\n0    0  34.5         0\n1    1  47.0         1\n2    0  62.0         0\n3    0  27.0         0\n4    1  22.0         1",
      "text/html": "<div>\n<style scoped>\n    .dataframe tbody tr th:only-of-type {\n        vertical-align: middle;\n    }\n\n    .dataframe tbody tr th {\n        vertical-align: top;\n    }\n\n    .dataframe thead th {\n        text-align: right;\n    }\n</style>\n<table border=\"1\" class=\"dataframe\">\n  <thead>\n    <tr style=\"text-align: right;\">\n      <th></th>\n      <th>Sex</th>\n      <th>Age</th>\n      <th>Survived</th>\n    </tr>\n  </thead>\n  <tbody>\n    <tr>\n      <th>0</th>\n      <td>0</td>\n      <td>34.5</td>\n      <td>0</td>\n    </tr>\n    <tr>\n      <th>1</th>\n      <td>1</td>\n      <td>47.0</td>\n      <td>1</td>\n    </tr>\n    <tr>\n      <th>2</th>\n      <td>0</td>\n      <td>62.0</td>\n      <td>0</td>\n    </tr>\n    <tr>\n      <th>3</th>\n      <td>0</td>\n      <td>27.0</td>\n      <td>0</td>\n    </tr>\n    <tr>\n      <th>4</th>\n      <td>1</td>\n      <td>22.0</td>\n      <td>1</td>\n    </tr>\n  </tbody>\n</table>\n</div>"
     },
     "execution_count": 88,
     "metadata": {},
     "output_type": "execute_result"
    }
   ]
  },
  {
   "cell_type": "code",
   "metadata": {
    "id": "vPcCIelq7tVb",
    "pycharm": {
     "name": "#%%\n"
    }
   },
   "source": [
    "corr_data.corr()"
   ],
   "execution_count": 89,
   "outputs": [
    {
     "data": {
      "text/plain": "               Sex       Age  Survived\nSex       1.000000 -0.000013  1.000000\nAge      -0.000013  1.000000 -0.000013\nSurvived  1.000000 -0.000013  1.000000",
      "text/html": "<div>\n<style scoped>\n    .dataframe tbody tr th:only-of-type {\n        vertical-align: middle;\n    }\n\n    .dataframe tbody tr th {\n        vertical-align: top;\n    }\n\n    .dataframe thead th {\n        text-align: right;\n    }\n</style>\n<table border=\"1\" class=\"dataframe\">\n  <thead>\n    <tr style=\"text-align: right;\">\n      <th></th>\n      <th>Sex</th>\n      <th>Age</th>\n      <th>Survived</th>\n    </tr>\n  </thead>\n  <tbody>\n    <tr>\n      <th>Sex</th>\n      <td>1.000000</td>\n      <td>-0.000013</td>\n      <td>1.000000</td>\n    </tr>\n    <tr>\n      <th>Age</th>\n      <td>-0.000013</td>\n      <td>1.000000</td>\n      <td>-0.000013</td>\n    </tr>\n    <tr>\n      <th>Survived</th>\n      <td>1.000000</td>\n      <td>-0.000013</td>\n      <td>1.000000</td>\n    </tr>\n  </tbody>\n</table>\n</div>"
     },
     "execution_count": 89,
     "metadata": {},
     "output_type": "execute_result"
    }
   ]
  },
  {
   "cell_type": "code",
   "metadata": {
    "id": "F9UP4UuQ78Nz",
    "pycharm": {
     "name": "#%%\n"
    }
   },
   "source": [
    "import seaborn as sns"
   ],
   "execution_count": 90,
   "outputs": []
  },
  {
   "cell_type": "code",
   "metadata": {
    "id": "2un98ldF8CSs",
    "pycharm": {
     "name": "#%%\n"
    }
   },
   "source": [
    "sns.heatmap(corr_data.corr(), annot=True, cmap='coolwarm',\n",
    "            vmin=-1, vmax=1, annot_kws={\"size\": 16})"
   ],
   "execution_count": 91,
   "outputs": [
    {
     "data": {
      "text/plain": "<AxesSubplot:>"
     },
     "execution_count": 91,
     "metadata": {},
     "output_type": "execute_result"
    },
    {
     "data": {
      "text/plain": "<Figure size 432x288 with 2 Axes>",
      "image/png": "[encoded data removed]"
     },
     "metadata": {
      "needs_background": "light"
     },
     "output_type": "display_data"
    }
   ]
  },
  {
   "cell_type": "code",
   "execution_count": null,
   "outputs": [],
   "source": [],
   "metadata": {
    "collapsed": false,
    "pycharm": {
     "name": "#%%\n"
    }
   }
  }
 ]
}